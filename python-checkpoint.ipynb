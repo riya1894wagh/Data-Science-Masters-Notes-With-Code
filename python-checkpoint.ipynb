{
 "cells": [
  {
   "cell_type": "markdown",
   "id": "890e3ee0",
   "metadata": {},
   "source": [
    "# Python"
   ]
  },
  {
   "cell_type": "markdown",
   "id": "aa4acb6f",
   "metadata": {},
   "source": [
    "python was created by Guido Van Rossum 1991.\n",
    "it is used for web development , software development etc.\n"
   ]
  },
  {
   "cell_type": "markdown",
   "id": "c77f41e2",
   "metadata": {},
   "source": [
    "#### *how to install python*"
   ]
  },
  {
   "cell_type": "code",
   "execution_count": 1,
   "id": "3d0c1104",
   "metadata": {},
   "outputs": [
    {
     "name": "stdout",
     "output_type": "stream",
     "text": [
      "Note: you may need to restart the kernel to use updated packages.\n"
     ]
    },
    {
     "name": "stderr",
     "output_type": "stream",
     "text": [
      "ERROR: Could not find a version that satisfies the requirement python (from versions: none)\n",
      "ERROR: No matching distribution found for python\n"
     ]
    }
   ],
   "source": [
    "pip install python"
   ]
  },
  {
   "cell_type": "markdown",
   "id": "f4c5f0f1",
   "metadata": {},
   "source": [
    "### python keywords"
   ]
  },
  {
   "cell_type": "code",
   "execution_count": 2,
   "id": "4780c114",
   "metadata": {},
   "outputs": [
    {
     "name": "stdout",
     "output_type": "stream",
     "text": [
      "No Python documentation found for '%killbgscriptseywords'.\n",
      "Use help() to get the interactive help utility.\n",
      "Use help(str) for help on the str class.\n",
      "\n"
     ]
    }
   ],
   "source": [
    "help(\"%killbgscriptseywords\")"
   ]
  },
  {
   "cell_type": "markdown",
   "id": "979e7664",
   "metadata": {},
   "source": [
    "## Variables"
   ]
  },
  {
   "cell_type": "markdown",
   "id": "8c98df17",
   "metadata": {},
   "source": [
    "Python has no command for declaring a variable."
   ]
  },
  {
   "cell_type": "markdown",
   "id": "720ff231",
   "metadata": {},
   "source": [
    "### Rules to declare a variable\n",
    "* Variable name should not start with a number.\n",
    "* There should not be gaps while declaring a variable.\n",
    "* Variable are case sensitive i.e,  **DATA**  and **data**  both are different"
   ]
  },
  {
   "cell_type": "code",
   "execution_count": 3,
   "id": "82cfb41d",
   "metadata": {},
   "outputs": [
    {
     "name": "stdout",
     "output_type": "stream",
     "text": [
      "54\n",
      "Riya Wagh\n"
     ]
    }
   ],
   "source": [
    "x = 54\n",
    "y = \"Riya Wagh\"\n",
    "print(x)\n",
    "print(y)"
   ]
  },
  {
   "cell_type": "markdown",
   "id": "357c9a4d",
   "metadata": {},
   "source": [
    "### Multiple Assignment\n",
    "\n",
    "Python allows us to assign a value to multiple variables in a single statement, which is also known as multiple assignments."
   ]
  },
  {
   "cell_type": "code",
   "execution_count": 4,
   "id": "0d373539",
   "metadata": {},
   "outputs": [
    {
     "name": "stdout",
     "output_type": "stream",
     "text": [
      "50\n",
      "50\n",
      "50\n"
     ]
    }
   ],
   "source": [
    "x=y=z=50    \n",
    "print(x)    \n",
    "print(y)    \n",
    "print(z)    "
   ]
  },
  {
   "cell_type": "code",
   "execution_count": 5,
   "id": "49e00bef",
   "metadata": {},
   "outputs": [
    {
     "name": "stdout",
     "output_type": "stream",
     "text": [
      "5\n",
      "10\n",
      "15\n"
     ]
    }
   ],
   "source": [
    "a,b,c = 5,10,15    \n",
    "print(a) \n",
    "print (b)    \n",
    "print (c)    "
   ]
  },
  {
   "cell_type": "markdown",
   "id": "f1a69164",
   "metadata": {},
   "source": [
    "## Delete a variable\n",
    "We can delete the variable using the del keyword. The syntax is given below.\n",
    "\n",
    "\n"
   ]
  },
  {
   "cell_type": "code",
   "execution_count": 6,
   "id": "292fa289",
   "metadata": {},
   "outputs": [
    {
     "name": "stdout",
     "output_type": "stream",
     "text": [
      "5\n"
     ]
    },
    {
     "ename": "NameError",
     "evalue": "name 'a' is not defined",
     "output_type": "error",
     "traceback": [
      "\u001b[1;31m---------------------------------------------------------------------------\u001b[0m",
      "\u001b[1;31mNameError\u001b[0m                                 Traceback (most recent call last)",
      "\u001b[1;32m~\\AppData\\Local\\Temp\\ipykernel_7624\\3563035178.py\u001b[0m in \u001b[0;36m<module>\u001b[1;34m\u001b[0m\n\u001b[0;32m      1\u001b[0m \u001b[0mprint\u001b[0m\u001b[1;33m(\u001b[0m\u001b[0ma\u001b[0m\u001b[1;33m)\u001b[0m\u001b[1;33m\u001b[0m\u001b[1;33m\u001b[0m\u001b[0m\n\u001b[0;32m      2\u001b[0m \u001b[1;32mdel\u001b[0m \u001b[0ma\u001b[0m\u001b[1;33m\u001b[0m\u001b[1;33m\u001b[0m\u001b[0m\n\u001b[1;32m----> 3\u001b[1;33m \u001b[0mprint\u001b[0m\u001b[1;33m(\u001b[0m\u001b[0ma\u001b[0m\u001b[1;33m)\u001b[0m\u001b[1;33m\u001b[0m\u001b[1;33m\u001b[0m\u001b[0m\n\u001b[0m",
      "\u001b[1;31mNameError\u001b[0m: name 'a' is not defined"
     ]
    }
   ],
   "source": [
    "print(a)\n",
    "del a\n",
    "print(a)"
   ]
  },
  {
   "cell_type": "markdown",
   "id": "572cc478",
   "metadata": {},
   "source": [
    "## Data Type"
   ]
  },
  {
   "cell_type": "markdown",
   "id": "8f25c74a",
   "metadata": {},
   "source": [
    "* **Text Type**: \tstr\n",
    "\n",
    "* **Numeric Types**:\tint, float, complex\n",
    "\n",
    "* **Sequence Types**:\tlist, tuple, range\n",
    "\n",
    "* **Mapping Type**:\tdict\n",
    "\n",
    "* **Set Types**:\tset, frozenset\n",
    "\n",
    "* **Boolean Type**:\tbool\n",
    "\n",
    "* **Binary Types**:\tbytes, bytearray, memoryview\n",
    "\n",
    " "
   ]
  },
  {
   "cell_type": "markdown",
   "id": "3d70f85f",
   "metadata": {},
   "source": [
    "### Numarical Data Type\n",
    "\n",
    "**Int** \n",
    "* Integer value can be any length such as integers 10, 2, 29, -20, -150 etc.\n",
    "\n",
    "* Python has no restriction on the length of an integer. Its value belongs to int\n",
    "\n",
    "**Float** \n",
    "* Float is used to store floating-point numbers like 1.9, 9.902, 15.2, etc.\n",
    "\n",
    "* It is accurate upto 15 decimal points.\n",
    "\n",
    "**complex** \n",
    "* A complex number contains an ordered pair, i.e., x + iy where x and y denote the real and imaginary parts, respectively. \n",
    "\n",
    "* The complex numbers like 2.14j, 2.0 + 2.3j, etc"
   ]
  },
  {
   "cell_type": "markdown",
   "id": "97f10ed1",
   "metadata": {},
   "source": [
    "#### Concatination Between Two Different Types"
   ]
  },
  {
   "cell_type": "markdown",
   "id": "c2fdaf39",
   "metadata": {},
   "source": [
    "## Text data type\n",
    "\n",
    "**String**\n",
    "\n",
    "* The string can be defined as the sequence of characters represented in the quotation marks.\n",
    "* we can use single, double, or triple quotes to define a string.\n",
    "\n",
    "\n",
    " "
   ]
  },
  {
   "cell_type": "markdown",
   "id": "eb8c58d0",
   "metadata": {},
   "source": [
    "In the case of string handling, the operator + is used to concatenate two strings as the operation \"hello\"+\" python\" returns \"hello python\".\n"
   ]
  },
  {
   "cell_type": "code",
   "execution_count": null,
   "id": "baeb5903",
   "metadata": {},
   "outputs": [],
   "source": [
    "int(\"1\") + 1"
   ]
  },
  {
   "cell_type": "code",
   "execution_count": null,
   "id": "0e7f353e",
   "metadata": {},
   "outputs": [],
   "source": [
    "\"riya \" + \"wagh\""
   ]
  },
  {
   "cell_type": "code",
   "execution_count": 7,
   "id": "454a6084",
   "metadata": {},
   "outputs": [
    {
     "data": {
      "text/plain": [
       "2"
      ]
     },
     "execution_count": 7,
     "metadata": {},
     "output_type": "execute_result"
    }
   ],
   "source": [
    "1+1"
   ]
  },
  {
   "cell_type": "markdown",
   "id": "240de011",
   "metadata": {},
   "source": [
    "The operator * is known as a repetition operator as the operation \"Python\" *2 returns 'Python Python'."
   ]
  },
  {
   "cell_type": "code",
   "execution_count": 8,
   "id": "cb9a1fa2",
   "metadata": {},
   "outputs": [
    {
     "data": {
      "text/plain": [
       "'1111111111111111111111111111111111111111111111111111111111111111111111111111111111111111111111111111'"
      ]
     },
     "execution_count": 8,
     "metadata": {},
     "output_type": "execute_result"
    }
   ],
   "source": [
    "\"1\"*100"
   ]
  },
  {
   "cell_type": "code",
   "execution_count": 9,
   "id": "88e89c61",
   "metadata": {},
   "outputs": [],
   "source": [
    "a=\"My name is riya\""
   ]
  },
  {
   "cell_type": "markdown",
   "id": "cd554510",
   "metadata": {},
   "source": [
    "#### *Upper Case*"
   ]
  },
  {
   "cell_type": "code",
   "execution_count": 10,
   "id": "e779205c",
   "metadata": {},
   "outputs": [
    {
     "name": "stdout",
     "output_type": "stream",
     "text": [
      "MY NAME IS RIYA\n"
     ]
    }
   ],
   "source": [
    "print(a.upper())"
   ]
  },
  {
   "cell_type": "markdown",
   "id": "63b37995",
   "metadata": {},
   "source": [
    "#### *Lower Case*"
   ]
  },
  {
   "cell_type": "code",
   "execution_count": 11,
   "id": "72518b3e",
   "metadata": {},
   "outputs": [
    {
     "name": "stdout",
     "output_type": "stream",
     "text": [
      "my name is riya\n"
     ]
    }
   ],
   "source": [
    "print(a.lower())"
   ]
  },
  {
   "cell_type": "markdown",
   "id": "37adeca2",
   "metadata": {},
   "source": [
    "#### *Remove Whitespace*\n",
    "The strip() method removes any whitespace from the beginning or the end:\n",
    "a = \"  my name is riya \"\n",
    "print(a)\n",
    "print(a.strip())"
   ]
  },
  {
   "cell_type": "code",
   "execution_count": 12,
   "id": "5fab24bf",
   "metadata": {},
   "outputs": [
    {
     "name": "stdout",
     "output_type": "stream",
     "text": [
      "  my name is riya \n",
      "my name is riya\n"
     ]
    }
   ],
   "source": [
    "a = \"  my name is riya \"\n",
    "print(a)\n",
    "print(a.strip())"
   ]
  },
  {
   "cell_type": "markdown",
   "id": "8ee305c9",
   "metadata": {},
   "source": [
    "#### *Replace String*"
   ]
  },
  {
   "cell_type": "code",
   "execution_count": 13,
   "id": "a0be7cd2",
   "metadata": {},
   "outputs": [
    {
     "name": "stdout",
     "output_type": "stream",
     "text": [
      "  my name is Riya \n"
     ]
    }
   ],
   "source": [
    "print(a.replace(\"r\",\"R\"))"
   ]
  },
  {
   "cell_type": "markdown",
   "id": "bfd4e63e",
   "metadata": {},
   "source": [
    "#### *Split String*\n",
    " "
   ]
  },
  {
   "cell_type": "markdown",
   "id": "8a02fab3",
   "metadata": {},
   "source": [
    "The split() method returns a list where the text between the specified separator becomes the list items."
   ]
  },
  {
   "cell_type": "code",
   "execution_count": 14,
   "id": "3539ede1",
   "metadata": {},
   "outputs": [
    {
     "name": "stdout",
     "output_type": "stream",
     "text": [
      "['', '', 'my', 'name', 'is', 'riya', '']\n"
     ]
    }
   ],
   "source": [
    "print(a.split(\" \"))"
   ]
  },
  {
   "cell_type": "markdown",
   "id": "c290c292",
   "metadata": {},
   "source": [
    "#### *String Concatenation*"
   ]
  },
  {
   "cell_type": "code",
   "execution_count": 15,
   "id": "1418f429",
   "metadata": {},
   "outputs": [
    {
     "name": "stdout",
     "output_type": "stream",
     "text": [
      "  my name is riya \n",
      "i want to became data science\n",
      "  my name is riya i want to became data science\n"
     ]
    }
   ],
   "source": [
    "b = \"i want to became data science\"\n",
    "print(a)\n",
    "print(b)\n",
    "print(a+b)"
   ]
  },
  {
   "cell_type": "markdown",
   "id": "24f384b5",
   "metadata": {},
   "source": [
    "#### *String Format*\n"
   ]
  },
  {
   "cell_type": "code",
   "execution_count": 16,
   "id": "16cdea3f",
   "metadata": {},
   "outputs": [
    {
     "ename": "TypeError",
     "evalue": "can only concatenate str (not \"int\") to str",
     "output_type": "error",
     "traceback": [
      "\u001b[1;31m---------------------------------------------------------------------------\u001b[0m",
      "\u001b[1;31mTypeError\u001b[0m                                 Traceback (most recent call last)",
      "\u001b[1;32m~\\AppData\\Local\\Temp\\ipykernel_7624\\982055754.py\u001b[0m in \u001b[0;36m<module>\u001b[1;34m\u001b[0m\n\u001b[0;32m      1\u001b[0m \u001b[0mage\u001b[0m \u001b[1;33m=\u001b[0m \u001b[1;36m36\u001b[0m\u001b[1;33m\u001b[0m\u001b[1;33m\u001b[0m\u001b[0m\n\u001b[1;32m----> 2\u001b[1;33m \u001b[0mtxt\u001b[0m \u001b[1;33m=\u001b[0m \u001b[1;34m\"My name is John, I am \"\u001b[0m \u001b[1;33m+\u001b[0m \u001b[0mage\u001b[0m\u001b[1;33m\u001b[0m\u001b[1;33m\u001b[0m\u001b[0m\n\u001b[0m\u001b[0;32m      3\u001b[0m \u001b[0mprint\u001b[0m\u001b[1;33m(\u001b[0m\u001b[0mtxt\u001b[0m\u001b[1;33m)\u001b[0m\u001b[1;33m\u001b[0m\u001b[1;33m\u001b[0m\u001b[0m\n",
      "\u001b[1;31mTypeError\u001b[0m: can only concatenate str (not \"int\") to str"
     ]
    }
   ],
   "source": [
    "age = 36\n",
    "txt = \"My name is John, I am \" + age\n",
    "print(txt)"
   ]
  },
  {
   "cell_type": "code",
   "execution_count": 17,
   "id": "91744d41",
   "metadata": {},
   "outputs": [
    {
     "name": "stdout",
     "output_type": "stream",
     "text": [
      "My name is John, I am 36\n"
     ]
    }
   ],
   "source": [
    "age = 36\n",
    "txt = \"My name is John, I am {}\"\n",
    "print(txt.format(age))"
   ]
  },
  {
   "cell_type": "code",
   "execution_count": 18,
   "id": "843c4317",
   "metadata": {},
   "outputs": [
    {
     "name": "stdout",
     "output_type": "stream",
     "text": [
      "I want 3 pieces of item 567 for 49.95 dollars.\n"
     ]
    }
   ],
   "source": [
    "quantity = 3\n",
    "itemno = 567\n",
    "price = 49.95\n",
    "myorder = \"I want {} pieces of item {} for {} dollars.\"\n",
    "print(myorder.format(quantity, itemno, price))"
   ]
  },
  {
   "cell_type": "markdown",
   "id": "1ff8fd75",
   "metadata": {},
   "source": [
    "### *Escape Character*"
   ]
  },
  {
   "cell_type": "raw",
   "id": "a30fba78",
   "metadata": {},
   "source": [
    "Code\tResult\tTry it\n",
    "\\'\t    Single Quote\t\n",
    "\\\\\t    Backslash\t\n",
    "\\n\t    New Line\t\n",
    "\\r\t    Carriage Return\t\n",
    "\\t\t    Tab\t\n",
    "\\b\t    Backspace\t\n",
    "\\f\t    Form Feed\t\n",
    "\\ooo\tOctal value\t\n",
    "\\xhh\tHex value"
   ]
  },
  {
   "cell_type": "code",
   "execution_count": 19,
   "id": "e06a518c",
   "metadata": {},
   "outputs": [
    {
     "name": "stdout",
     "output_type": "stream",
     "text": [
      "It's alright.\n",
      "It \\ is alright.\n",
      "It \n",
      " is alright.\n",
      "It   is \r",
      " alright.\n",
      "It   is \t alright.\n",
      "It   is \b alright.\n",
      "It   is \f",
      " alright.\n"
     ]
    },
    {
     "data": {
      "text/plain": [
       "'Hello'"
      ]
     },
     "execution_count": 19,
     "metadata": {},
     "output_type": "execute_result"
    }
   ],
   "source": [
    "txt = 'It\\'s alright.'\n",
    "print(txt) \n",
    "txt = 'It \\\\ is alright.'\n",
    "print(txt) \n",
    "txt = 'It \\n is alright.'\n",
    "print(txt) \n",
    "txt = 'It   is \\r alright.'\n",
    "print(txt) \n",
    "txt = 'It   is \\t alright.'\n",
    "print(txt) \n",
    "txt = 'It   is \\b alright.'\n",
    "print(txt) \n",
    "txt = 'It   is \\f alright.'\n",
    "print(txt) \n",
    "txt = \"\\110\\145\\154\\154\\157\"\n",
    "txt\n",
    "txt = \"\\x48\\x65\\x6c\\x6c\\x6f\"\n",
    "txt"
   ]
  },
  {
   "cell_type": "markdown",
   "id": "edc8d961",
   "metadata": {},
   "source": [
    "#### *String Methods*"
   ]
  },
  {
   "cell_type": "markdown",
   "id": "4b848f34",
   "metadata": {},
   "source": [
    "**capitalize()**\tConverts the first character to upper case\n",
    "\n",
    "**casefold()**\tConverts string into lower case\n",
    "\n",
    "**center()**\tReturns a centered string\n",
    "\n",
    "**count()**\tReturns the number of times a specified value occurs in a string\n",
    "\n",
    "**encode()**\tReturns an encoded version of the string\n",
    "\n",
    "**endswith()**\tReturns true if the string ends with the specified value\n",
    "\n",
    "**expandtabs()**\tSets the tab size of the string\n",
    "\n",
    "**find()**\tSearches the string for a specified value and returns the position of where it was found\n",
    "\n",
    "**format()**\tFormats specified values in a string\n",
    "\n",
    "**format_map()**\tFormats specified values in a string\n",
    "\n",
    "**index()**\tSearches the string for a specified value and returns the position of where it was found\n",
    "\n",
    "**isalnum()**\tReturns True if all characters in the string are alphanumeric\n",
    "\n",
    "**isalpha()** Returns True if all characters in the string are in the alphabet\n",
    "\n",
    "**isdecimal()**\tReturns True if all characters in the string are decimals\n",
    "\n",
    "**isdigit()**\tReturns True if all characters in the string are digits\n",
    "\n",
    "**isidentifier()**\tReturns True if the string is an identifier\n",
    "\n",
    "**islower()**\tReturns True if all characters in the string are lower case\n",
    "\n",
    "**isnumeric()**\tReturns True if all characters in the string are numeric\n",
    "\n",
    "**isprintable()**\tReturns True if all characters in the string are printable\n",
    "\n",
    "**isspace()**\tReturns True if all characters in the string are whitespaces\n",
    "\n",
    "**istitle()**\tReturns True if the string follows the rules of a title\n",
    "\n",
    "**isupper()**\tReturns True if all characters in the string are upper case\n",
    "\n",
    "**join()**\tJoins the elements of an iterable to the end of the string\n",
    "\n",
    "**ljust()**\tReturns a left justified version of the string\n",
    "\n",
    "**lower()**\tConverts a string into lower case\n",
    "\n",
    "**lstrip()**\tReturns a left trim version of the string\n",
    "\n",
    "**maketrans()**\tReturns a translation table to be used in translations\n",
    "\n",
    "**partition()**\tReturns a tuple where the string is parted into three parts\n",
    "\n",
    "**replace()**\tReturns a string where a specified value is replaced with a specified value\n",
    "\n",
    "**rfind()**\tSearches the string for a specified value and returns the last position of where it was found\n",
    "\n",
    "**rindex()**\tSearches the string for a specified value and returns the last position of where it was found\n",
    "\n",
    "**rjust()**\tReturns a right justified version of the string\n",
    "\n",
    "**rpartition()**\tReturns a tuple where the string is parted into three parts\n",
    "\n",
    "**rsplit()**\tSplits the string at the specified separator, and returns a list\n",
    "\n",
    "**rstrip()**\tReturns a right trim version of the string\n",
    "\n",
    "**split()**\tSplits the string at the specified separator, and returns a list\n",
    "\n",
    "**splitlines()**\tSplits the string at line breaks and returns a list\n",
    "\n",
    "**startswith()**\tReturns true if the string starts with the specified value\n",
    "\n",
    "**strip()**\tReturns a trimmed version of the string\n",
    "\n",
    "**swapcase()**\tSwaps cases, lower case becomes upper case and vice versa\n",
    "\n",
    "**title()**\tConverts the first character of each word to upper case\n",
    "\n",
    "**translate()**\tReturns a translated string\n",
    "\n",
    "**upper()**\tConverts a string into upper case\n",
    "\n",
    "**zfill()**\tFills the string with a specified number of 0 values at the beginning"
   ]
  },
  {
   "cell_type": "markdown",
   "id": "5ef0ef5e",
   "metadata": {},
   "source": [
    "## Sequence Data Types\n",
    "**List** \n",
    "* Python Lists are similar to arrays in C.\n",
    "* However, the list can contain data of different types.\n",
    "* The items stored in the list are separated with a comma (,) and enclosed within square brackets [].\n",
    "* We can use slice [:] operators to access the data of the list.\n",
    "* The concatenation operator (+) and repetition operator (*) works with the list in the same way as they were working with the strings."
   ]
  },
  {
   "cell_type": "code",
   "execution_count": 20,
   "id": "77007826",
   "metadata": {},
   "outputs": [
    {
     "name": "stdout",
     "output_type": "stream",
     "text": [
      "<class 'list'>\n",
      "[1, 2.5, 'hi', 'Riya']\n",
      "['Riya']\n",
      "[1, 2.5]\n",
      "[1, 2.5, 'hi', 'Riya', 1, 2.5, 'hi', 'Riya']\n",
      "[1, 2.5, 'hi', 'Riya', 1, 2.5, 'hi', 'Riya', 1, 2.5, 'hi', 'Riya']\n"
     ]
    }
   ],
   "source": [
    "list1  = [1 ,2.5, \"hi\", \"Riya\"]    \n",
    "#Checking type of given list  \n",
    "print(type(list1))  \n",
    "  \n",
    "#Printing the list1  \n",
    "print (list1)  \n",
    "  \n",
    "# List slicing  \n",
    "print (list1[3:])  \n",
    "  \n",
    "# List slicing  \n",
    "print (list1[0:2])   \n",
    "  \n",
    "# List Concatenation using + operator  \n",
    "print (list1 + list1)  \n",
    "  \n",
    "# List repetation using * operator  \n",
    "print (list1 * 3)  "
   ]
  },
  {
   "cell_type": "code",
   "execution_count": 21,
   "id": "255397fd",
   "metadata": {},
   "outputs": [
    {
     "name": "stdout",
     "output_type": "stream",
     "text": [
      "['apple', 'banana', 'cherry']\n",
      "3\n",
      "<class 'list'>\n"
     ]
    }
   ],
   "source": [
    "# List Length \n",
    "a = [\"apple\" , \"banana\" , \"cherry\"]\n",
    "print(a)\n",
    "print(len(a))\n",
    "print(type(a))"
   ]
  },
  {
   "cell_type": "markdown",
   "id": "4c2c32f3",
   "metadata": {},
   "source": [
    "#### *Acess list item*"
   ]
  },
  {
   "cell_type": "code",
   "execution_count": 22,
   "id": "c247ea49",
   "metadata": {},
   "outputs": [
    {
     "name": "stdout",
     "output_type": "stream",
     "text": [
      "['apple', 'mango', 'banana']\n",
      "mango\n",
      "banana\n",
      "['apple', 'mango', 'banana']\n",
      "['mango', 'banana']\n",
      "['apple']\n",
      "['mango', 'banana']\n",
      "['banana', 'mango', 'apple']\n",
      "apple\n",
      "mango\n",
      "banana\n"
     ]
    }
   ],
   "source": [
    "b=list((\"apple\",\"mango\",\"banana\"))\n",
    "print(b)\n",
    "print(b[1])\n",
    "print(b[-1])\n",
    "print(b[0:4])\n",
    "print(b[1:3])\n",
    "print(b[:1])\n",
    "print(b[1:])\n",
    "print(b[::-1])\n",
    "for i in b:\n",
    "    print(i)"
   ]
  },
  {
   "cell_type": "markdown",
   "id": "4f613fe6",
   "metadata": {},
   "source": [
    "#### *Change Item Value*"
   ]
  },
  {
   "cell_type": "code",
   "execution_count": 23,
   "id": "c8a36c8e",
   "metadata": {},
   "outputs": [
    {
     "name": "stdout",
     "output_type": "stream",
     "text": [
      "['apple', 'mango', 'banana']\n",
      "['apple', 'kiwi', 'banana']\n"
     ]
    }
   ],
   "source": [
    "print(b)\n",
    "b[1] = \"kiwi\"\n",
    "print(b)"
   ]
  },
  {
   "cell_type": "code",
   "execution_count": 24,
   "id": "3ac3b783",
   "metadata": {},
   "outputs": [
    {
     "name": "stdout",
     "output_type": "stream",
     "text": [
      "['apple', 'kiwi', 'banana']\n",
      "['apple', 'kiwi', 'watermallon', 'orange']\n"
     ]
    }
   ],
   "source": [
    "print(b)\n",
    "b[1:3] = [ \"kiwi\" , \"watermallon\" , \"orange\" ]\n",
    "print(b)"
   ]
  },
  {
   "cell_type": "markdown",
   "id": "482ac64e",
   "metadata": {},
   "source": [
    "#### *Append*\n"
   ]
  },
  {
   "cell_type": "code",
   "execution_count": 25,
   "id": "e320f4fe",
   "metadata": {},
   "outputs": [
    {
     "name": "stdout",
     "output_type": "stream",
     "text": [
      "['apple', 'banana', 'cherry', 'orange']\n"
     ]
    }
   ],
   "source": [
    "a.append(\"orange\")\n",
    "print(a)"
   ]
  },
  {
   "cell_type": "markdown",
   "id": "20ece3c1",
   "metadata": {},
   "source": [
    "#### *Insert*"
   ]
  },
  {
   "cell_type": "code",
   "execution_count": 26,
   "id": "c50a10ca",
   "metadata": {},
   "outputs": [
    {
     "name": "stdout",
     "output_type": "stream",
     "text": [
      "['apple', 'banana', 'cherry', 'orange']\n",
      "['pea', 'apple', 'banana', 'cherry', 'orange']\n"
     ]
    }
   ],
   "source": [
    "print(a)\n",
    "a.insert(0,\"pea\")\n",
    "print(a)"
   ]
  },
  {
   "cell_type": "markdown",
   "id": "8ac32a09",
   "metadata": {},
   "source": [
    "#### *Extend*"
   ]
  },
  {
   "cell_type": "code",
   "execution_count": 27,
   "id": "f533a23d",
   "metadata": {},
   "outputs": [
    {
     "name": "stdout",
     "output_type": "stream",
     "text": [
      "['pea', 'apple', 'banana', 'cherry', 'orange']\n",
      "['apple', 'kiwi', 'watermallon', 'orange']\n"
     ]
    },
    {
     "data": {
      "text/plain": [
       "['pea',\n",
       " 'apple',\n",
       " 'banana',\n",
       " 'cherry',\n",
       " 'orange',\n",
       " 'apple',\n",
       " 'kiwi',\n",
       " 'watermallon',\n",
       " 'orange']"
      ]
     },
     "execution_count": 27,
     "metadata": {},
     "output_type": "execute_result"
    }
   ],
   "source": [
    "print(a)\n",
    "print(b)\n",
    "a.extend(b)\n",
    "a"
   ]
  },
  {
   "cell_type": "markdown",
   "id": "7bb8f5b0",
   "metadata": {},
   "source": [
    "####  *Remove item from list*\n"
   ]
  },
  {
   "cell_type": "code",
   "execution_count": 28,
   "id": "a45b2e80",
   "metadata": {},
   "outputs": [
    {
     "name": "stdout",
     "output_type": "stream",
     "text": [
      "['pea', 'apple', 'banana', 'cherry', 'orange', 'apple', 'kiwi', 'watermallon', 'orange']\n",
      "['pea', 'banana', 'cherry', 'orange', 'apple', 'kiwi', 'watermallon', 'orange']\n"
     ]
    }
   ],
   "source": [
    "print(a)\n",
    "a.remove(\"apple\")\n",
    "print(a)"
   ]
  },
  {
   "cell_type": "code",
   "execution_count": 29,
   "id": "3c1b5f90",
   "metadata": {},
   "outputs": [
    {
     "ename": "NameError",
     "evalue": "name 'a' is not defined",
     "output_type": "error",
     "traceback": [
      "\u001b[1;31m---------------------------------------------------------------------------\u001b[0m",
      "\u001b[1;31mNameError\u001b[0m                                 Traceback (most recent call last)",
      "\u001b[1;32m~\\AppData\\Local\\Temp\\ipykernel_7624\\3125231900.py\u001b[0m in \u001b[0;36m<module>\u001b[1;34m\u001b[0m\n\u001b[0;32m      1\u001b[0m \u001b[1;32mdel\u001b[0m \u001b[0ma\u001b[0m\u001b[1;33m\u001b[0m\u001b[1;33m\u001b[0m\u001b[0m\n\u001b[1;32m----> 2\u001b[1;33m \u001b[0ma\u001b[0m\u001b[1;33m\u001b[0m\u001b[1;33m\u001b[0m\u001b[0m\n\u001b[0m",
      "\u001b[1;31mNameError\u001b[0m: name 'a' is not defined"
     ]
    }
   ],
   "source": [
    "del a\n",
    "a"
   ]
  },
  {
   "cell_type": "code",
   "execution_count": 30,
   "id": "ac7aa884",
   "metadata": {},
   "outputs": [
    {
     "data": {
      "text/plain": [
       "[]"
      ]
     },
     "execution_count": 30,
     "metadata": {},
     "output_type": "execute_result"
    }
   ],
   "source": [
    "b.clear()\n",
    "b"
   ]
  },
  {
   "cell_type": "code",
   "execution_count": 31,
   "id": "37a9d9cc",
   "metadata": {},
   "outputs": [
    {
     "name": "stdout",
     "output_type": "stream",
     "text": [
      "['apple', 'banana', 'mango']\n"
     ]
    }
   ],
   "source": [
    "fruits = [\"apple\", \"banana\", \"cherry\", \"kiwi\", \"mango\"]\n",
    "newlist = []\n",
    "\n",
    "for x in fruits:\n",
    "    if \"a\" in x:\n",
    "        newlist.append(x)\n",
    "\n",
    "print(newlist)"
   ]
  },
  {
   "cell_type": "code",
   "execution_count": 32,
   "id": "1497dfd9",
   "metadata": {},
   "outputs": [
    {
     "name": "stdout",
     "output_type": "stream",
     "text": [
      "['apple', 'banana', 'mango']\n"
     ]
    }
   ],
   "source": [
    "fruits = [\"apple\", \"banana\", \"cherry\", \"kiwi\", \"mango\"]\n",
    "\n",
    "newlist = [x for x in fruits if \"a\" in x]\n",
    "\n",
    "print(newlist)\n"
   ]
  },
  {
   "cell_type": "code",
   "execution_count": 33,
   "id": "f1527d3e",
   "metadata": {},
   "outputs": [
    {
     "data": {
      "text/plain": [
       "[0, 1, 2, 3, 4, 5, 6, 7, 8, 9]"
      ]
     },
     "execution_count": 33,
     "metadata": {},
     "output_type": "execute_result"
    }
   ],
   "source": [
    "newlist = [x for x in range(10)]\n",
    "newlist"
   ]
  },
  {
   "cell_type": "markdown",
   "id": "f4b81280",
   "metadata": {},
   "source": [
    "#### *Sorting*"
   ]
  },
  {
   "cell_type": "code",
   "execution_count": 34,
   "id": "32b65d41",
   "metadata": {},
   "outputs": [
    {
     "data": {
      "text/plain": [
       "['apple', 'banana', 'cherry', 'kiwi', 'mango']"
      ]
     },
     "execution_count": 34,
     "metadata": {},
     "output_type": "execute_result"
    }
   ],
   "source": [
    "fruits.sort()\n",
    "fruits"
   ]
  },
  {
   "cell_type": "code",
   "execution_count": 35,
   "id": "f2eef086",
   "metadata": {},
   "outputs": [
    {
     "data": {
      "text/plain": [
       "['mango', 'kiwi', 'cherry', 'banana', 'apple']"
      ]
     },
     "execution_count": 35,
     "metadata": {},
     "output_type": "execute_result"
    }
   ],
   "source": [
    "fruits.sort(reverse = True)\n",
    "fruits"
   ]
  },
  {
   "cell_type": "markdown",
   "id": "6feca0b4",
   "metadata": {},
   "source": [
    "#### *Customize Sort Function*"
   ]
  },
  {
   "cell_type": "code",
   "execution_count": 36,
   "id": "a6772e6d",
   "metadata": {},
   "outputs": [
    {
     "name": "stdout",
     "output_type": "stream",
     "text": [
      "[100, 50, 65, 82, 23]\n",
      "[50, 65, 23, 82, 100]\n"
     ]
    }
   ],
   "source": [
    "def myfunc(n):\n",
    "    return abs(n - 50)\n",
    "\n",
    "thislist = [100, 50, 65, 82, 23]  \n",
    "# 50 0 15 32 27 \n",
    "# 0 15 27 32 50\n",
    "print(thislist)\n",
    "thislist.sort(key = myfunc)\n",
    "print(thislist)\n"
   ]
  },
  {
   "cell_type": "code",
   "execution_count": 37,
   "id": "03b8f968",
   "metadata": {},
   "outputs": [
    {
     "name": "stdout",
     "output_type": "stream",
     "text": [
      "['Kiwi', 'Orange', 'banana', 'cherry']\n",
      "['banana', 'cherry', 'Kiwi', 'Orange']\n",
      "['Orange', 'Kiwi', 'cherry', 'banana']\n"
     ]
    }
   ],
   "source": [
    "thislist = [\"banana\", \"Orange\", \"Kiwi\", \"cherry\"]\n",
    "thislist.sort()\n",
    "print(thislist)\n",
    "thislist.sort(key = str.lower)\n",
    "print(thislist)\n",
    "thislist.reverse()\n",
    "print(thislist)"
   ]
  },
  {
   "cell_type": "code",
   "execution_count": 38,
   "id": "26f2a6f7",
   "metadata": {},
   "outputs": [
    {
     "data": {
      "text/plain": [
       "7"
      ]
     },
     "execution_count": 38,
     "metadata": {},
     "output_type": "execute_result"
    }
   ],
   "source": [
    "number = [1,5,4,8,1,8,5,4,1,8,4,8,8,9,61,7,2,3,80,10,51,10,2,10,21,10,10,2,20,51,10,2,100,2,10,2,10,22,5,1,8,102,50,2,1,15,12,90,2,1,5,4,5,1,210]\n",
    "number.count(1)"
   ]
  },
  {
   "cell_type": "raw",
   "id": "a6d379f3",
   "metadata": {},
   "source": [
    "append()\tAdds an element at the end of the list\n",
    "clear()   \tRemoves all the elements from the list\n",
    "copy()\t    Returns a copy of the list\n",
    "count()\t    Returns the number of elements with the specified value\n",
    "extend()\tAdd the elements of a list (or any iterable), to the end of the current list\n",
    "index()  \tReturns the index of the first element with the specified value\n",
    "insert()\tAdds an element at the specified position\n",
    "pop()\t    Removes the element at the specified position\n",
    "remove()\tRemoves the item with the specified value\n",
    "reverse()\tReverses the order of the list\n",
    "sort()\t    Sorts the list"
   ]
  },
  {
   "cell_type": "markdown",
   "id": "10c6a672",
   "metadata": {},
   "source": [
    "**Tuple**\n",
    "* A tuple is similar to the list in many ways. Like lists, tuples also contain the collection of the items of different data types. The items of the tuple are separated with a comma (,) and enclosed in parentheses ().\n",
    "\n",
    "* A tuple is a read-only data structure as we can't modify the size and value of the items of a tuple."
   ]
  },
  {
   "cell_type": "code",
   "execution_count": 39,
   "id": "d5a929ec",
   "metadata": {},
   "outputs": [
    {
     "name": "stdout",
     "output_type": "stream",
     "text": [
      "<class 'tuple'>\n",
      "(1, 2, 'hi', 'Riya', 2)\n",
      "(2, 'hi', 'Riya', 2)\n",
      "(1,)\n",
      "(1, 2, 'hi', 'Riya', 2, 1, 2, 'hi', 'Riya', 2)\n",
      "(1, 2, 'hi', 'Riya', 2, 1, 2, 'hi', 'Riya', 2, 1, 2, 'hi', 'Riya', 2)\n"
     ]
    },
    {
     "ename": "NameError",
     "evalue": "name 't' is not defined",
     "output_type": "error",
     "traceback": [
      "\u001b[1;31m---------------------------------------------------------------------------\u001b[0m",
      "\u001b[1;31mNameError\u001b[0m                                 Traceback (most recent call last)",
      "\u001b[1;32m~\\AppData\\Local\\Temp\\ipykernel_7624\\3721312975.py\u001b[0m in \u001b[0;36m<module>\u001b[1;34m\u001b[0m\n\u001b[0;32m     17\u001b[0m \u001b[1;33m\u001b[0m\u001b[0m\n\u001b[0;32m     18\u001b[0m \u001b[1;31m# Adding value to tup. It will throw an error.\u001b[0m\u001b[1;33m\u001b[0m\u001b[1;33m\u001b[0m\u001b[0m\n\u001b[1;32m---> 19\u001b[1;33m \u001b[0mt\u001b[0m\u001b[1;33m[\u001b[0m\u001b[1;36m2\u001b[0m\u001b[1;33m]\u001b[0m \u001b[1;33m=\u001b[0m \u001b[1;34m\"hi\"\u001b[0m\u001b[1;33m\u001b[0m\u001b[1;33m\u001b[0m\u001b[0m\n\u001b[0m",
      "\u001b[1;31mNameError\u001b[0m: name 't' is not defined"
     ]
    }
   ],
   "source": [
    "tup  = (1,2,\"hi\", \"Riya\", 2)    \n",
    "# Checking type of tup  \n",
    "print (type(tup))    \n",
    "  \n",
    "#Printing the tuple  \n",
    "print (tup)  \n",
    "  \n",
    "# Tuple slicing  \n",
    "print (tup[1:])    \n",
    "print (tup[0:1])    \n",
    "  \n",
    "# Tuple concatenation using + operator  \n",
    "print (tup + tup)    \n",
    "  \n",
    "# Tuple repatation using * operator  \n",
    "print (tup * 3)     \n",
    "  \n",
    "# Adding value to tup. It will throw an error.  \n",
    "t[2] = \"hi\"  "
   ]
  },
  {
   "cell_type": "code",
   "execution_count": 40,
   "id": "901b5525",
   "metadata": {},
   "outputs": [
    {
     "name": "stdout",
     "output_type": "stream",
     "text": [
      "('apple', 'banana', 'cherry')\n",
      "3\n",
      "<class 'tuple'>\n"
     ]
    }
   ],
   "source": [
    "fruits = (\"apple\", \"banana\", \"cherry\")\n",
    "print(fruits)\n",
    "print(len(fruits))\n",
    "print(type(fruits))"
   ]
  },
  {
   "cell_type": "markdown",
   "id": "bf315c3c",
   "metadata": {},
   "source": [
    "#### *Acess touple*"
   ]
  },
  {
   "cell_type": "code",
   "execution_count": 41,
   "id": "3e760add",
   "metadata": {},
   "outputs": [
    {
     "name": "stdout",
     "output_type": "stream",
     "text": [
      "('apple', 'banana', 'cherry')\n",
      "banana\n",
      "cherry\n",
      "('banana', 'cherry')\n",
      "('apple', 'banana', 'cherry')\n",
      "('banana', 'cherry')\n",
      "('cherry', 'banana', 'apple')\n"
     ]
    }
   ],
   "source": [
    "print(fruits[:])\n",
    "print(fruits[1])\n",
    "print(fruits[-1])\n",
    "print(fruits[1:6])\n",
    "print(fruits[:6])\n",
    "print(fruits[1:])\n",
    "print(fruits[::-1])"
   ]
  },
  {
   "cell_type": "markdown",
   "id": "b6d6743f",
   "metadata": {},
   "source": [
    "#### *Change Tuple Values*"
   ]
  },
  {
   "cell_type": "markdown",
   "id": "7fbfcad4",
   "metadata": {},
   "source": [
    "Once a tuple is created, you cannot change its values. Tuples are unchangeable, or immutable as it also is called.\n",
    "\n",
    "But there is a workaround. You can convert the tuple into a list, change the list, and convert the list back into a tuple.\n",
    "\n"
   ]
  },
  {
   "cell_type": "code",
   "execution_count": 42,
   "id": "702419a2",
   "metadata": {},
   "outputs": [
    {
     "name": "stdout",
     "output_type": "stream",
     "text": [
      "('apple', 'banana', 'cherry')\n",
      "['apple', 'banana', 'cherry']\n",
      "['apple', 'kiwi', 'cherry']\n",
      "('apple', 'kiwi', 'cherry')\n"
     ]
    }
   ],
   "source": [
    "print(fruits)\n",
    "fruits = list(fruits)\n",
    "print(fruits)\n",
    "fruits[1] = \"kiwi\"\n",
    "print(fruits)\n",
    "fruits = tuple(fruits)\n",
    "print(fruits)"
   ]
  },
  {
   "cell_type": "code",
   "execution_count": 43,
   "id": "ca9370da",
   "metadata": {},
   "outputs": [
    {
     "ename": "NameError",
     "evalue": "name 'fruits' is not defined",
     "output_type": "error",
     "traceback": [
      "\u001b[1;31m---------------------------------------------------------------------------\u001b[0m",
      "\u001b[1;31mNameError\u001b[0m                                 Traceback (most recent call last)",
      "\u001b[1;32m~\\AppData\\Local\\Temp\\ipykernel_7624\\753144438.py\u001b[0m in \u001b[0;36m<module>\u001b[1;34m\u001b[0m\n\u001b[0;32m      1\u001b[0m \u001b[1;32mdel\u001b[0m \u001b[0mfruits\u001b[0m\u001b[1;33m\u001b[0m\u001b[1;33m\u001b[0m\u001b[0m\n\u001b[1;32m----> 2\u001b[1;33m \u001b[0mprint\u001b[0m\u001b[1;33m(\u001b[0m\u001b[0mfruits\u001b[0m\u001b[1;33m)\u001b[0m\u001b[1;33m\u001b[0m\u001b[1;33m\u001b[0m\u001b[0m\n\u001b[0m",
      "\u001b[1;31mNameError\u001b[0m: name 'fruits' is not defined"
     ]
    }
   ],
   "source": [
    "del fruits\n",
    "print(fruits)"
   ]
  },
  {
   "cell_type": "markdown",
   "id": "995a0778",
   "metadata": {},
   "source": [
    "#### *Unpacking a Tuple*"
   ]
  },
  {
   "cell_type": "markdown",
   "id": "96f57ac7",
   "metadata": {},
   "source": [
    "When we create a tuple, we normally assign values to it. This is called \"packing\" a tuple:\n",
    "\n",
    "But, in Python, we are also allowed to extract the values back into variables. This is called \"unpacking\":"
   ]
  },
  {
   "cell_type": "code",
   "execution_count": 44,
   "id": "941447da",
   "metadata": {},
   "outputs": [
    {
     "name": "stdout",
     "output_type": "stream",
     "text": [
      "apple\n",
      "banana\n",
      "cherry\n"
     ]
    }
   ],
   "source": [
    "fruits = (\"apple\", \"banana\", \"cherry\")\n",
    "\n",
    "(green, yellow, red) = fruits\n",
    "\n",
    "print(green)\n",
    "print(yellow)\n",
    "print(red)\n"
   ]
  },
  {
   "cell_type": "markdown",
   "id": "ae8a373a",
   "metadata": {},
   "source": [
    "#### *Using Asterisk**\n"
   ]
  },
  {
   "cell_type": "markdown",
   "id": "d3f3b0cd",
   "metadata": {},
   "source": [
    "If the number of variables is less than the number of values, you can add an * to the variable name and the values will be assigned to the variable as a list:"
   ]
  },
  {
   "cell_type": "code",
   "execution_count": 45,
   "id": "970c55f4",
   "metadata": {},
   "outputs": [
    {
     "name": "stdout",
     "output_type": "stream",
     "text": [
      "apple\n",
      "banana\n",
      "['cherry', 'strawberry', 'raspberry']\n"
     ]
    }
   ],
   "source": [
    "fruits = (\"apple\", \"banana\", \"cherry\", \"strawberry\", \"raspberry\")\n",
    "\n",
    "(green, yellow, *red) = fruits\n",
    "\n",
    "print(green)\n",
    "print(yellow)\n",
    "print(red)"
   ]
  },
  {
   "cell_type": "code",
   "execution_count": 46,
   "id": "9fe085af",
   "metadata": {},
   "outputs": [
    {
     "name": "stdout",
     "output_type": "stream",
     "text": [
      "apple\n",
      "['mango', 'papaya', 'pineapple']\n",
      "cherry\n"
     ]
    }
   ],
   "source": [
    "fruits = (\"apple\", \"mango\", \"papaya\", \"pineapple\", \"cherry\")\n",
    "\n",
    "(green, *tropic, red) = fruits\n",
    "\n",
    "print(green)\n",
    "print(tropic)\n",
    "print(red)"
   ]
  },
  {
   "cell_type": "markdown",
   "id": "62e8cc3c",
   "metadata": {},
   "source": [
    "#### *Tuples Join*\n"
   ]
  },
  {
   "cell_type": "code",
   "execution_count": 47,
   "id": "427ea0f7",
   "metadata": {},
   "outputs": [
    {
     "name": "stdout",
     "output_type": "stream",
     "text": [
      "('a', 'b', 'c', 1, 2, 3)\n"
     ]
    }
   ],
   "source": [
    "tuple1 = (\"a\", \"b\" , \"c\")\n",
    "tuple2 = (1, 2, 3)\n",
    "\n",
    "tuple3 = tuple1 + tuple2\n",
    "print(tuple3)"
   ]
  },
  {
   "cell_type": "code",
   "execution_count": 48,
   "id": "667e6029",
   "metadata": {},
   "outputs": [
    {
     "name": "stdout",
     "output_type": "stream",
     "text": [
      "('apple', 'banana', 'cherry', 'apple', 'banana', 'cherry')\n"
     ]
    }
   ],
   "source": [
    "fruits = (\"apple\", \"banana\", \"cherry\")\n",
    "mytuple = fruits * 2\n",
    "\n",
    "print(mytuple)"
   ]
  },
  {
   "cell_type": "code",
   "execution_count": 49,
   "id": "e983771f",
   "metadata": {},
   "outputs": [
    {
     "data": {
      "text/plain": [
       "1"
      ]
     },
     "execution_count": 49,
     "metadata": {},
     "output_type": "execute_result"
    }
   ],
   "source": [
    " tuple2.count(1)"
   ]
  },
  {
   "cell_type": "code",
   "execution_count": 50,
   "id": "919c9790",
   "metadata": {},
   "outputs": [
    {
     "data": {
      "text/plain": [
       "1"
      ]
     },
     "execution_count": 50,
     "metadata": {},
     "output_type": "execute_result"
    }
   ],
   "source": [
    "tuple2.index(2)"
   ]
  },
  {
   "cell_type": "raw",
   "id": "6cd969ea",
   "metadata": {},
   "source": [
    "count()\t    Returns the number of times a specified value occurs in a tuple\n",
    "index()\t    Searches the tuple for a specified value and returns the position of where it was found"
   ]
  },
  {
   "cell_type": "markdown",
   "id": "457782b7",
   "metadata": {},
   "source": [
    "**Range**"
   ]
  },
  {
   "cell_type": "code",
   "execution_count": 51,
   "id": "fd7a917a",
   "metadata": {},
   "outputs": [
    {
     "name": "stdout",
     "output_type": "stream",
     "text": [
      "<class 'range'>\n",
      "range(0, 10)\n"
     ]
    }
   ],
   "source": [
    "x = range(10)\n",
    "print(type(x))\n",
    "print(x)"
   ]
  },
  {
   "cell_type": "markdown",
   "id": "60c15742",
   "metadata": {},
   "source": [
    " **Random Number**\n"
   ]
  },
  {
   "cell_type": "code",
   "execution_count": 52,
   "id": "97d46dc4",
   "metadata": {},
   "outputs": [
    {
     "name": "stdout",
     "output_type": "stream",
     "text": [
      "2\n"
     ]
    }
   ],
   "source": [
    "import random\n",
    "\n",
    "print(random.randrange(1, 10))"
   ]
  },
  {
   "cell_type": "markdown",
   "id": "0b3d0dec",
   "metadata": {},
   "source": [
    "## **Mapping Data Type**:\t\n",
    "**dicttionary**\n",
    "* Dictionaries are used to store data values in key:value pairs.\n",
    "\n",
    "* A dictionary is a collection which is ordered*, changeable and do not allow duplicates.\n"
   ]
  },
  {
   "cell_type": "code",
   "execution_count": 53,
   "id": "c8e3371e",
   "metadata": {},
   "outputs": [
    {
     "name": "stdout",
     "output_type": "stream",
     "text": [
      "{'Name': 'Riya', 'Class': 'M.Sc Computer science', 'Course': 'Data science masters', 'Language': 'Python'}\n"
     ]
    },
    {
     "ename": "KeyError",
     "evalue": "'lass'",
     "output_type": "error",
     "traceback": [
      "\u001b[1;31m---------------------------------------------------------------------------\u001b[0m",
      "\u001b[1;31mKeyError\u001b[0m                                  Traceback (most recent call last)",
      "\u001b[1;32m~\\AppData\\Local\\Temp\\ipykernel_7624\\2139094143.py\u001b[0m in \u001b[0;36m<module>\u001b[1;34m\u001b[0m\n\u001b[0;32m      5\u001b[0m \u001b[1;33m\u001b[0m\u001b[0m\n\u001b[0;32m      6\u001b[0m \u001b[1;31m# Accesing value using keys\u001b[0m\u001b[1;33m\u001b[0m\u001b[1;33m\u001b[0m\u001b[0m\n\u001b[1;32m----> 7\u001b[1;33m \u001b[0mprint\u001b[0m\u001b[1;33m(\u001b[0m\u001b[1;34m\"1st name is \"\u001b[0m\u001b[1;33m+\u001b[0m\u001b[0md\u001b[0m\u001b[1;33m[\u001b[0m\u001b[1;34m\"lass\"\u001b[0m\u001b[1;33m]\u001b[0m\u001b[1;33m)\u001b[0m\u001b[1;33m\u001b[0m\u001b[1;33m\u001b[0m\u001b[0m\n\u001b[0m\u001b[0;32m      8\u001b[0m \u001b[0mprint\u001b[0m\u001b[1;33m(\u001b[0m\u001b[1;34m\"2nd name is \"\u001b[0m\u001b[1;33m+\u001b[0m \u001b[0md\u001b[0m\u001b[1;33m[\u001b[0m\u001b[1;34m\"Language\"\u001b[0m\u001b[1;33m]\u001b[0m\u001b[1;33m)\u001b[0m\u001b[1;33m\u001b[0m\u001b[1;33m\u001b[0m\u001b[0m\n\u001b[0;32m      9\u001b[0m \u001b[1;33m\u001b[0m\u001b[0m\n",
      "\u001b[1;31mKeyError\u001b[0m: 'lass'"
     ]
    }
   ],
   "source": [
    "d = {\"Name\":'Riya', \"Class\":'M.Sc Computer science', \"Course\":\"Data science masters\", \"Language\":'Python'}     \n",
    "  \n",
    "# Printing dictionary  \n",
    "print (d)  \n",
    "  \n",
    "# Accesing value using keys  \n",
    "print(\"1st name is \"+d[\"lass\"])   \n",
    "print(\"2nd name is \"+ d[\"Language\"])    \n",
    "  \n",
    "print (d.keys())    \n",
    "print (d.values())    "
   ]
  },
  {
   "cell_type": "code",
   "execution_count": 54,
   "id": "9edebd30",
   "metadata": {},
   "outputs": [
    {
     "name": "stdout",
     "output_type": "stream",
     "text": [
      "{'brand': 'Ford', 'model': 'Mustang', 'year': 1964}\n"
     ]
    }
   ],
   "source": [
    "thisdict = {\n",
    "  \"brand\": \"Ford\",\n",
    "  \"model\": \"Mustang\",\n",
    "  \"year\": 1964\n",
    "}\n",
    "print(thisdict)"
   ]
  },
  {
   "cell_type": "code",
   "execution_count": 55,
   "id": "7337cfa2",
   "metadata": {},
   "outputs": [
    {
     "name": "stdout",
     "output_type": "stream",
     "text": [
      "3\n"
     ]
    }
   ],
   "source": [
    "print(len(thisdict))"
   ]
  },
  {
   "cell_type": "code",
   "execution_count": 56,
   "id": "7085816a",
   "metadata": {},
   "outputs": [
    {
     "name": "stdout",
     "output_type": "stream",
     "text": [
      "<class 'dict'>\n"
     ]
    }
   ],
   "source": [
    "print(type(thisdict))"
   ]
  },
  {
   "cell_type": "code",
   "execution_count": 57,
   "id": "f9af8111",
   "metadata": {},
   "outputs": [
    {
     "name": "stdout",
     "output_type": "stream",
     "text": [
      "Mustang\n"
     ]
    }
   ],
   "source": [
    "print(thisdict[\"model\"])"
   ]
  },
  {
   "cell_type": "markdown",
   "id": "7b69dd2d",
   "metadata": {},
   "source": [
    "#### *Accessing Items*\n"
   ]
  },
  {
   "cell_type": "code",
   "execution_count": 58,
   "id": "0a306174",
   "metadata": {},
   "outputs": [
    {
     "name": "stdout",
     "output_type": "stream",
     "text": [
      "Mustang\n",
      "Mustang\n",
      "Mustang\n"
     ]
    }
   ],
   "source": [
    "thisdict = {\n",
    "  \"brand\": \"Ford\",\n",
    "  \"model\": \"Mustang\",\n",
    "  \"year\": 1964\n",
    "}\n",
    "print(thisdict[\"model\"])\n",
    "print(thisdict[\"model\"])\n",
    "print(thisdict.get(\"model\"))"
   ]
  },
  {
   "cell_type": "code",
   "execution_count": 59,
   "id": "2c890421",
   "metadata": {},
   "outputs": [
    {
     "name": "stdout",
     "output_type": "stream",
     "text": [
      "dict_keys(['brand', 'model', 'year'])\n",
      "dict_values(['Ford', 'Mustang', 1964])\n"
     ]
    }
   ],
   "source": [
    "print(thisdict.keys())\n",
    "print(thisdict.values())"
   ]
  },
  {
   "cell_type": "markdown",
   "id": "07f78102",
   "metadata": {},
   "source": [
    "#### *update values*\n"
   ]
  },
  {
   "cell_type": "code",
   "execution_count": 60,
   "id": "8aa86ee4",
   "metadata": {},
   "outputs": [
    {
     "name": "stdout",
     "output_type": "stream",
     "text": [
      "{'brand': 'Ford', 'model': 'Mustang', 'year': 2020}\n",
      "{'brand': 'Ford', 'model': 'Mustang', 'year': 2020, 'color': 'red'}\n"
     ]
    }
   ],
   "source": [
    "thisdict.update({\"year\":2020})\n",
    "print(thisdict)\n",
    "thisdict[\"color\"] = \"red\"\n",
    "print(thisdict)"
   ]
  },
  {
   "cell_type": "markdown",
   "id": "4c645aaa",
   "metadata": {},
   "source": [
    "#### *Removing Items*"
   ]
  },
  {
   "cell_type": "code",
   "execution_count": 61,
   "id": "96f8c2fc",
   "metadata": {},
   "outputs": [
    {
     "name": "stdout",
     "output_type": "stream",
     "text": [
      "{'brand': 'Ford', 'year': 2020}\n",
      "{'year': 2020}\n",
      "{}\n"
     ]
    },
    {
     "ename": "NameError",
     "evalue": "name 'thisdict' is not defined",
     "output_type": "error",
     "traceback": [
      "\u001b[1;31m---------------------------------------------------------------------------\u001b[0m",
      "\u001b[1;31mNameError\u001b[0m                                 Traceback (most recent call last)",
      "\u001b[1;32m~\\AppData\\Local\\Temp\\ipykernel_7624\\4131858221.py\u001b[0m in \u001b[0;36m<module>\u001b[1;34m\u001b[0m\n\u001b[0;32m      7\u001b[0m \u001b[0mprint\u001b[0m\u001b[1;33m(\u001b[0m\u001b[0mthisdict\u001b[0m\u001b[1;33m)\u001b[0m\u001b[1;33m\u001b[0m\u001b[1;33m\u001b[0m\u001b[0m\n\u001b[0;32m      8\u001b[0m \u001b[1;32mdel\u001b[0m \u001b[0mthisdict\u001b[0m\u001b[1;33m\u001b[0m\u001b[1;33m\u001b[0m\u001b[0m\n\u001b[1;32m----> 9\u001b[1;33m \u001b[0mprint\u001b[0m\u001b[1;33m(\u001b[0m\u001b[0mthisdict\u001b[0m\u001b[1;33m)\u001b[0m\u001b[1;33m\u001b[0m\u001b[1;33m\u001b[0m\u001b[0m\n\u001b[0m",
      "\u001b[1;31mNameError\u001b[0m: name 'thisdict' is not defined"
     ]
    }
   ],
   "source": [
    "thisdict.pop(\"model\")\n",
    "thisdict.popitem()\n",
    "print(thisdict)\n",
    "del thisdict[\"brand\"]\n",
    "print(thisdict)\n",
    "thisdict.clear()\n",
    "print(thisdict)\n",
    "del thisdict\n",
    "print(thisdict)"
   ]
  },
  {
   "cell_type": "code",
   "execution_count": 62,
   "id": "821c4ff8",
   "metadata": {},
   "outputs": [
    {
     "name": "stdout",
     "output_type": "stream",
     "text": [
      "brand\n",
      "model\n",
      "year\n",
      "Ford\n",
      "Mustang\n",
      "1964\n",
      "Ford\n",
      "Mustang\n",
      "1964\n",
      "brand\n",
      "model\n",
      "year\n",
      "brand Ford\n",
      "model Mustang\n",
      "year 1964\n"
     ]
    }
   ],
   "source": [
    "thisdict = {\n",
    "  \"brand\": \"Ford\",\n",
    "  \"model\": \"Mustang\",\n",
    "  \"year\": 1964\n",
    "}\n",
    "for x in thisdict:\n",
    "    print(x)\n",
    "for x in thisdict:\n",
    "    print(thisdict[x])\n",
    "for x in thisdict.values():\n",
    "    print(x)\n",
    "for x in thisdict.keys():\n",
    "    print(x)\n",
    "for x, y in thisdict.items():\n",
    "    print(x, y)"
   ]
  },
  {
   "cell_type": "markdown",
   "id": "e4547b31",
   "metadata": {},
   "source": [
    "Method\tDescription\n",
    "* **clear()**\tRemoves all the elements from the dictionary\n",
    "* **copy()**\tReturns a copy of the dictionary\n",
    "* **fromkeys()**\tReturns a dictionary with the specified keys and value\n",
    "* **get()**\tReturns the value of the specified key\n",
    "* **items()**\tReturns a list containing a tuple for each key value pair\n",
    "* **keys()**\tReturns a list containing the dictionary's keys\n",
    "* **pop()**\tRemoves the element with the specified key\n",
    "* **popitem()**\tRemoves the last inserted key-value pair\n",
    "* **setdefault()**\tReturns the value of the specified key. If the key does not exist: insert the key, with the specified value\n",
    "* **update()**\tUpdates the dictionary with the specified key-value pairs\n",
    "* **values()**\tReturns a list of all the values in the dictionary\n"
   ]
  },
  {
   "cell_type": "markdown",
   "id": "39950883",
   "metadata": {},
   "source": [
    "## Boolean Data type\n",
    "**boolean**\n",
    "* Boolean type provides two built-in values, True and False.\n",
    "* These values are used to determine the given statement true or false.\n",
    "* It denotes by the class bool. True can be represented by any non-zero value or 'T' whereas false can be represented by the 0 or 'F'"
   ]
  },
  {
   "cell_type": "code",
   "execution_count": 63,
   "id": "ecb7ec20",
   "metadata": {},
   "outputs": [
    {
     "name": "stdout",
     "output_type": "stream",
     "text": [
      "<class 'bool'>\n",
      "<class 'bool'>\n"
     ]
    }
   ],
   "source": [
    "print(type(True))  \n",
    "print(type(False))  "
   ]
  },
  {
   "cell_type": "code",
   "execution_count": 64,
   "id": "b45b8a78",
   "metadata": {},
   "outputs": [
    {
     "name": "stdout",
     "output_type": "stream",
     "text": [
      "True\n",
      "False\n",
      "False\n",
      "True\n",
      "False\n"
     ]
    }
   ],
   "source": [
    "print(6<9)\n",
    "print(6>9)\n",
    "print(6==9)\n",
    "print(6<=9)\n",
    "print(6>=9)"
   ]
  },
  {
   "cell_type": "code",
   "execution_count": 65,
   "id": "a6670141",
   "metadata": {},
   "outputs": [
    {
     "data": {
      "text/plain": [
       "True"
      ]
     },
     "execution_count": 65,
     "metadata": {},
     "output_type": "execute_result"
    }
   ],
   "source": [
    "bool(\"hello\")"
   ]
  },
  {
   "cell_type": "code",
   "execution_count": 66,
   "id": "78cdc8fc",
   "metadata": {},
   "outputs": [
    {
     "name": "stdout",
     "output_type": "stream",
     "text": [
      "False\n",
      "False\n",
      "False\n",
      "False\n",
      "False\n",
      "False\n",
      "False\n"
     ]
    }
   ],
   "source": [
    "print(bool(False))\n",
    "print(bool(None))\n",
    "print(bool(0))\n",
    "print(bool(\"\"))\n",
    "print(bool(()))\n",
    "print(bool([]))\n",
    "print(bool({}))"
   ]
  },
  {
   "cell_type": "markdown",
   "id": "99b16022",
   "metadata": {},
   "source": [
    "## Set Data Type\n",
    "\n",
    "* Python Set is the unordered collection of the data type.\n",
    "* It is iterable, mutable(can modify after creation), and has unique elements.\n",
    "* In set, the order of the elements is undefined; it may return the changed sequence of the element. \n",
    "* The set is created by using a built-in function set(), or a sequence of elements is passed in the curly braces and separated by the comma. \n",
    "* It can contain various types of values."
   ]
  },
  {
   "cell_type": "code",
   "execution_count": 67,
   "id": "897cc7c0",
   "metadata": {},
   "outputs": [
    {
     "name": "stdout",
     "output_type": "stream",
     "text": [
      "{2, 3, 'Riya', 'Wagh'}\n",
      "{2, 3, 'Riya', 10, 'Wagh'}\n",
      "{3, 'Riya', 10, 'Wagh'}\n"
     ]
    }
   ],
   "source": [
    "# Creating Empty set  \n",
    "set1 = set()  \n",
    "  \n",
    "set2 = {'Riya', 2, 3,'Wagh'}  \n",
    "  \n",
    "#Printing Set value  \n",
    "print(set2)  \n",
    "  \n",
    "# Adding element to the set  \n",
    "  \n",
    "set2.add(10)  \n",
    "print(set2)  \n",
    "  \n",
    "#Removing element from the set  \n",
    "set2.remove(2)  \n",
    "print(set2)  "
   ]
  },
  {
   "cell_type": "markdown",
   "id": "610b3091",
   "metadata": {},
   "source": [
    "### how check data type"
   ]
  },
  {
   "cell_type": "markdown",
   "id": "c6a6a87a",
   "metadata": {},
   "source": [
    "type() is use to check data type in python"
   ]
  },
  {
   "cell_type": "code",
   "execution_count": 68,
   "id": "4a0ad13a",
   "metadata": {},
   "outputs": [
    {
     "name": "stdout",
     "output_type": "stream",
     "text": [
      "54\n",
      "Riya Wagh\n",
      "<class 'int'>\n",
      "<class 'str'>\n"
     ]
    }
   ],
   "source": [
    "x = 54\n",
    "y = \"Riya Wagh\"\n",
    "print(x)\n",
    "print(y)\n",
    "print(type(x)) \n",
    "print(type(y))"
   ]
  },
  {
   "cell_type": "code",
   "execution_count": 69,
   "id": "d5996380",
   "metadata": {},
   "outputs": [
    {
     "name": "stdout",
     "output_type": "stream",
     "text": [
      "{1, 2, 3, 4, 5, 6, 7, 8}\n",
      "<class 'set'>\n",
      "8\n"
     ]
    }
   ],
   "source": [
    "a={1,5,8,8,6,5,4,7,6,3,1,4,6,2,7,8}\n",
    "print(a)\n",
    "print(type(a))\n",
    "print(len(a))"
   ]
  },
  {
   "cell_type": "code",
   "execution_count": 70,
   "id": "06e0bbd8",
   "metadata": {},
   "outputs": [
    {
     "name": "stdout",
     "output_type": "stream",
     "text": [
      "True\n"
     ]
    }
   ],
   "source": [
    "thisset = {\"apple\", \"banana\", \"cherry\"}\n",
    "\n",
    "print(\"banana\" in thisset)\n"
   ]
  },
  {
   "cell_type": "markdown",
   "id": "b7339efd",
   "metadata": {},
   "source": [
    "#### *Add item in set*"
   ]
  },
  {
   "cell_type": "code",
   "execution_count": 71,
   "id": "0667de42",
   "metadata": {},
   "outputs": [
    {
     "name": "stdout",
     "output_type": "stream",
     "text": [
      "{'apple', 'cherry', 'orange', 'banana'}\n"
     ]
    }
   ],
   "source": [
    "thisset.add(\"orange\")\n",
    "\n",
    "print(thisset)"
   ]
  },
  {
   "cell_type": "markdown",
   "id": "f394dfaf",
   "metadata": {},
   "source": [
    "#### *Add set in set*\n"
   ]
  },
  {
   "cell_type": "code",
   "execution_count": 72,
   "id": "93ef5038",
   "metadata": {},
   "outputs": [
    {
     "name": "stdout",
     "output_type": "stream",
     "text": [
      "{'apple', 'kiwi', 'banana', 'cherry', 'orange'}\n"
     ]
    }
   ],
   "source": [
    "myset = {\"kiwi\", \"orange\"}\n",
    "\n",
    "thisset.update(myset)\n",
    "\n",
    "print(thisset)"
   ]
  },
  {
   "cell_type": "markdown",
   "id": "ce56f612",
   "metadata": {},
   "source": [
    "#### *Add Any Iterable*"
   ]
  },
  {
   "cell_type": "code",
   "execution_count": 73,
   "id": "d3292c97",
   "metadata": {},
   "outputs": [
    {
     "name": "stdout",
     "output_type": "stream",
     "text": [
      "{'apple', 'watermalon', 'kiwi', 'banana', 'guvava', 'cherry', 'orange'}\n"
     ]
    }
   ],
   "source": [
    "mylist = [\"watermalon\", \"guvava\"]\n",
    "\n",
    "thisset.update(mylist)\n",
    "\n",
    "print(thisset)"
   ]
  },
  {
   "cell_type": "code",
   "execution_count": 74,
   "id": "0ed1d280",
   "metadata": {},
   "outputs": [
    {
     "name": "stdout",
     "output_type": "stream",
     "text": [
      "{'apple', 'watermalon', 'grapes', 'kiwi', 'banana', 'guvava', 'cherry', 'orange'}\n"
     ]
    }
   ],
   "source": [
    "mytuple = {\"grapes\"}\n",
    "\n",
    "thisset.update(mytuple)\n",
    "\n",
    "print(thisset)"
   ]
  },
  {
   "cell_type": "code",
   "execution_count": 75,
   "id": "665c4756",
   "metadata": {},
   "outputs": [
    {
     "name": "stdout",
     "output_type": "stream",
     "text": [
      "{'banana', 'cherry', 'kiwi', 'orange', 'apple', 'watermalon', 'fruit2', 'fruit1', 'guvava', 'grapes'}\n"
     ]
    }
   ],
   "source": [
    "mydict = {\"fruit1\" : \"bluebares\",\"fruit2\" : \"papaya\"}\n",
    "\n",
    "thisset.update(mydict)\n",
    "\n",
    "print(thisset)"
   ]
  },
  {
   "cell_type": "markdown",
   "id": "b4da126a",
   "metadata": {},
   "source": [
    "#### *Python - Remove Set Items*"
   ]
  },
  {
   "cell_type": "code",
   "execution_count": 76,
   "id": "483dfb00",
   "metadata": {},
   "outputs": [
    {
     "name": "stdout",
     "output_type": "stream",
     "text": [
      "{'apple', 'cherry'}\n"
     ]
    }
   ],
   "source": [
    "thisset = {\"apple\", \"banana\", \"cherry\"}\n",
    "\n",
    "thisset.remove(\"banana\")\n",
    "\n",
    "print(thisset)"
   ]
  },
  {
   "cell_type": "code",
   "execution_count": 77,
   "id": "2d732d0a",
   "metadata": {},
   "outputs": [
    {
     "name": "stdout",
     "output_type": "stream",
     "text": [
      "{'apple', 'cherry'}\n",
      "{'cherry'}\n"
     ]
    },
    {
     "ename": "NameError",
     "evalue": "name 'thisset' is not defined",
     "output_type": "error",
     "traceback": [
      "\u001b[1;31m---------------------------------------------------------------------------\u001b[0m",
      "\u001b[1;31mNameError\u001b[0m                                 Traceback (most recent call last)",
      "\u001b[1;32m~\\AppData\\Local\\Temp\\ipykernel_7624\\1990391743.py\u001b[0m in \u001b[0;36m<module>\u001b[1;34m\u001b[0m\n\u001b[0;32m     15\u001b[0m \u001b[1;32mdel\u001b[0m \u001b[0mthisset\u001b[0m\u001b[1;33m\u001b[0m\u001b[1;33m\u001b[0m\u001b[0m\n\u001b[0;32m     16\u001b[0m \u001b[1;33m\u001b[0m\u001b[0m\n\u001b[1;32m---> 17\u001b[1;33m \u001b[0mprint\u001b[0m\u001b[1;33m(\u001b[0m\u001b[0mthisset\u001b[0m\u001b[1;33m)\u001b[0m\u001b[1;33m\u001b[0m\u001b[1;33m\u001b[0m\u001b[0m\n\u001b[0m",
      "\u001b[1;31mNameError\u001b[0m: name 'thisset' is not defined"
     ]
    }
   ],
   "source": [
    "thisset = {\"apple\", \"banana\", \"cherry\"}\n",
    "\n",
    "thisset.discard(\"banana\")\n",
    "\n",
    "print(thisset)\n",
    "\n",
    "thisset.pop()\n",
    "\n",
    "print(thisset)\n",
    "\n",
    "thisset.clear()\n",
    "\n",
    "thisset\n",
    "\n",
    "del thisset\n",
    "\n",
    "print(thisset)"
   ]
  },
  {
   "cell_type": "code",
   "execution_count": 78,
   "id": "4f4817cd",
   "metadata": {},
   "outputs": [
    {
     "name": "stdout",
     "output_type": "stream",
     "text": [
      "apple\n",
      "{'cherry', 'banana'}\n"
     ]
    }
   ],
   "source": [
    "thisset = {\"apple\", \"banana\", \"cherry\"}\n",
    "\n",
    "x = thisset.pop()\n",
    "\n",
    "print(x)\n",
    "\n",
    "print(thisset)\n"
   ]
  },
  {
   "cell_type": "code",
   "execution_count": 79,
   "id": "70518ee1",
   "metadata": {},
   "outputs": [
    {
     "name": "stdout",
     "output_type": "stream",
     "text": [
      "set()\n"
     ]
    }
   ],
   "source": [
    "thisset = {\"apple\", \"banana\", \"cherry\"}\n",
    "\n",
    "thisset.clear()\n",
    "\n",
    "print(thisset)"
   ]
  },
  {
   "cell_type": "code",
   "execution_count": 80,
   "id": "76f7e298",
   "metadata": {},
   "outputs": [
    {
     "ename": "NameError",
     "evalue": "name 'thisset' is not defined",
     "output_type": "error",
     "traceback": [
      "\u001b[1;31m---------------------------------------------------------------------------\u001b[0m",
      "\u001b[1;31mNameError\u001b[0m                                 Traceback (most recent call last)",
      "\u001b[1;32m~\\AppData\\Local\\Temp\\ipykernel_7624\\3077915618.py\u001b[0m in \u001b[0;36m<module>\u001b[1;34m\u001b[0m\n\u001b[0;32m      3\u001b[0m \u001b[1;32mdel\u001b[0m \u001b[0mthisset\u001b[0m\u001b[1;33m\u001b[0m\u001b[1;33m\u001b[0m\u001b[0m\n\u001b[0;32m      4\u001b[0m \u001b[1;33m\u001b[0m\u001b[0m\n\u001b[1;32m----> 5\u001b[1;33m \u001b[0mprint\u001b[0m\u001b[1;33m(\u001b[0m\u001b[0mthisset\u001b[0m\u001b[1;33m)\u001b[0m\u001b[1;33m\u001b[0m\u001b[1;33m\u001b[0m\u001b[0m\n\u001b[0m",
      "\u001b[1;31mNameError\u001b[0m: name 'thisset' is not defined"
     ]
    }
   ],
   "source": [
    "thisset = {\"apple\", \"banana\", \"cherry\"}\n",
    "\n",
    "del thisset\n",
    "\n",
    "print(thisset)"
   ]
  },
  {
   "cell_type": "markdown",
   "id": "f64ecf33",
   "metadata": {},
   "source": [
    "#### *Python - Join Sets*"
   ]
  },
  {
   "cell_type": "code",
   "execution_count": 81,
   "id": "5dedf5b1",
   "metadata": {},
   "outputs": [
    {
     "name": "stdout",
     "output_type": "stream",
     "text": [
      "{1, 2, 3, 'c', 'a', 'b'}\n"
     ]
    }
   ],
   "source": [
    "# Join set\n",
    "set1 = {\"a\", \"b\" , \"c\"}\n",
    "set2 = {1, 2, 3}\n",
    "\n",
    "set3 = set1.union(set2)\n",
    "print(set3)\n"
   ]
  },
  {
   "cell_type": "code",
   "execution_count": 82,
   "id": "5f4f843b",
   "metadata": {},
   "outputs": [
    {
     "name": "stdout",
     "output_type": "stream",
     "text": [
      "{1, 2, 3, 'c', 'a', 'b'}\n"
     ]
    }
   ],
   "source": [
    "set1 = {\"a\", \"b\" , \"c\"}\n",
    "set2 = {1, 2, 3}\n",
    "\n",
    "set1.update(set2)\n",
    "print(set1)"
   ]
  },
  {
   "cell_type": "code",
   "execution_count": 83,
   "id": "84a2c1a0",
   "metadata": {},
   "outputs": [
    {
     "name": "stdout",
     "output_type": "stream",
     "text": [
      "{'apple'}\n"
     ]
    }
   ],
   "source": [
    "x = {\"apple\", \"banana\", \"cherry\"}\n",
    "y = {\"google\", \"microsoft\", \"apple\"}\n",
    "\n",
    "x.intersection_update(y)\n",
    "\n",
    "print(x)"
   ]
  },
  {
   "cell_type": "code",
   "execution_count": 84,
   "id": "0c567296",
   "metadata": {},
   "outputs": [
    {
     "name": "stdout",
     "output_type": "stream",
     "text": [
      "{'apple'}\n"
     ]
    }
   ],
   "source": [
    "z=x.intersection(y)\n",
    "print(z)"
   ]
  },
  {
   "cell_type": "code",
   "execution_count": 85,
   "id": "4871cc69",
   "metadata": {},
   "outputs": [
    {
     "name": "stdout",
     "output_type": "stream",
     "text": [
      "{'microsoft', 'banana', 'google', 'cherry'}\n",
      "{'microsoft', 'banana', 'google', 'cherry'}\n"
     ]
    }
   ],
   "source": [
    "x = {\"apple\", \"banana\", \"cherry\"}\n",
    "y = {\"google\", \"microsoft\", \"apple\"}\n",
    "\n",
    "x.symmetric_difference_update(y)\n",
    "\n",
    "print(x)\n",
    "\n",
    "x.symmetric_difference(y)\n",
    "\n",
    "print(x)"
   ]
  },
  {
   "cell_type": "markdown",
   "id": "c5bc02c5",
   "metadata": {},
   "source": [
    "* **Method**\tDescription\n",
    "* **add()**\tAdds an element to the set\n",
    "* **clear()**\tRemoves all the elements from the set\n",
    "* **copy()**\tReturns a copy of the set\n",
    "* **difference()**\tReturns a set containing the difference between two or more sets\n",
    "* **difference_update()**\tRemoves the items in this set that are also included in another, specified set\n",
    "* **discard()**\tRemove the specified item\n",
    "* **intersection()**\tReturns a set, that is the intersection of two other sets\n",
    "* **intersection_update()**\tRemoves the items in this set that are not present in other, specified set(s)\n",
    "* **isdisjoint()**\tReturns whether two sets have a intersection or not\n",
    "* **issubset()**\tReturns whether another set contains this set or not\n",
    "* **issuperset()**\tReturns whether this set contains another set or not\n",
    "* **pop()**\tRemoves an element from the set\n",
    "* **remove()**\tRemoves the specified element\n",
    "* **symmetric_difference()**\tReturns a set with the symmetric differences of two sets\n",
    "* **symmetric_difference_update()**\tinserts the symmetric differences from this set and another\n",
    "* **union()**\tReturn a set containing the union of sets\n",
    "* **update()**\tUpdate the set with the union of this set and others"
   ]
  },
  {
   "cell_type": "markdown",
   "id": "5039f0b3",
   "metadata": {},
   "source": [
    "## Casting"
   ]
  },
  {
   "cell_type": "markdown",
   "id": "6a3c9bbc",
   "metadata": {},
   "source": [
    "**Type Casting is the method to convert the variable data type into a certain data type** \n",
    "\n",
    "There can be two types of Type Casting in Python –\n",
    "\n",
    "* Implicit Type Casting\n",
    "* Explicit Type Casting"
   ]
  },
  {
   "cell_type": "markdown",
   "id": "b00d603c",
   "metadata": {},
   "source": [
    "### Inplicit type casting\n",
    "\n",
    "In this,  methods, Python converts data type into another data type automatically. In this process, users don’t have to involve in this process. "
   ]
  },
  {
   "cell_type": "code",
   "execution_count": 86,
   "id": "91319929",
   "metadata": {},
   "outputs": [
    {
     "name": "stdout",
     "output_type": "stream",
     "text": [
      "<class 'int'>\n",
      "<class 'float'>\n",
      "<class 'str'>\n"
     ]
    }
   ],
   "source": [
    "x = 1\n",
    "print(type(x))\n",
    "\n",
    "y = 2.8 \n",
    "print(type(y))\n",
    "\n",
    "z = \"3\"\n",
    "print(type(z))"
   ]
  },
  {
   "cell_type": "markdown",
   "id": "4d6ffc2d",
   "metadata": {},
   "source": [
    "## Explicit Type Casting\n",
    "\n",
    "Mainly in type casting can be done with these data type function:\n",
    "\n",
    "* **Int()** : Int() function take float or string as an argument and return int type object.\n",
    "* **float()** : float() function take int or string as an argument and return float type object.\n",
    "* **str()** : str() function take float or int as an argument and return string type object."
   ]
  },
  {
   "cell_type": "code",
   "execution_count": 87,
   "id": "0d6f1318",
   "metadata": {},
   "outputs": [
    {
     "name": "stdout",
     "output_type": "stream",
     "text": [
      "<class 'int'>\n",
      "<class 'int'>\n",
      "<class 'int'>\n"
     ]
    }
   ],
   "source": [
    "x = int(1)   # x will be 1\n",
    "print(type(x))\n",
    "y = int(2.8) # y will be 2\n",
    "print(type(y))\n",
    "z = int(\"3\") # z will be 3\n",
    "print(type(z))"
   ]
  },
  {
   "cell_type": "code",
   "execution_count": 88,
   "id": "f1d41a04",
   "metadata": {},
   "outputs": [
    {
     "name": "stdout",
     "output_type": "stream",
     "text": [
      "<class 'float'>\n",
      "<class 'float'>\n",
      "<class 'float'>\n"
     ]
    }
   ],
   "source": [
    "x = float(1)   # x will be 1\n",
    "print(type(x))\n",
    "y = float(2.8) # y will be 2\n",
    "print(type(y))\n",
    "z = float(\"3\") # z will be 3\n",
    "print(type(z))"
   ]
  },
  {
   "cell_type": "code",
   "execution_count": 89,
   "id": "be0c2498",
   "metadata": {},
   "outputs": [
    {
     "name": "stdout",
     "output_type": "stream",
     "text": [
      "<class 'str'>\n",
      "<class 'str'>\n",
      "<class 'str'>\n"
     ]
    }
   ],
   "source": [
    "x = str(1)   # x will be 1\n",
    "print(type(x))\n",
    "y = str(2.8) # y will be 2\n",
    "print(type(y))\n",
    "z = str(\"3\") # z will be 3\n",
    "print(type(z))"
   ]
  },
  {
   "cell_type": "markdown",
   "id": "3b0db70e",
   "metadata": {},
   "source": [
    "## Formating"
   ]
  },
  {
   "cell_type": "code",
   "execution_count": 90,
   "id": "b5a22345",
   "metadata": {},
   "outputs": [
    {
     "name": "stdout",
     "output_type": "stream",
     "text": [
      "my age is 21\n"
     ]
    }
   ],
   "source": [
    "age = 21\n",
    "print(\"my age is\",age)"
   ]
  },
  {
   "cell_type": "code",
   "execution_count": 91,
   "id": "0a7412c8",
   "metadata": {},
   "outputs": [
    {
     "name": "stdout",
     "output_type": "stream",
     "text": [
      "my age is {age}\n"
     ]
    }
   ],
   "source": [
    "print(\"my age is {age}\")"
   ]
  },
  {
   "cell_type": "code",
   "execution_count": 92,
   "id": "08010be0",
   "metadata": {},
   "outputs": [
    {
     "name": "stdout",
     "output_type": "stream",
     "text": [
      "my age is 21\n",
      "my age is 21\n",
      "Enter your name\n",
      "My name is \n"
     ]
    }
   ],
   "source": [
    "print(f\"my age is {age}\")\n",
    "print(\"my age is {}\".format(age))\n",
    "name=input(\"Enter your name\")\n",
    "print(\"My name is {}\".format(name))"
   ]
  },
  {
   "cell_type": "markdown",
   "id": "216625e5",
   "metadata": {},
   "source": [
    " ## Operators \n",
    " * Operators are used to perform operations on variables and values.\n",
    " * Python divides the operators in the following groups:\n",
    "\n",
    "* **Arithmetic operators**\n",
    "* **Assignment operators**\n",
    "* **Comparison operators**\n",
    "* **Logical operators**\n",
    "* **Identity operators**\n",
    "* **Membership operators**\n",
    "* **Bitwise operators**\n",
    "\n",
    "\n"
   ]
  },
  {
   "cell_type": "raw",
   "id": "aa0f96f1",
   "metadata": {},
   "source": [
    "+\tAddition\tx + y\t\n",
    "-\tSubtraction\tx - y\t\n",
    "*\tMultiplication\tx * y\t\n",
    "/\tDivision\tx / y\t\n",
    "%\tModulus\tx % y\t\n",
    "**\tExponentiation\tx ** y\t\n",
    "//\tFloor division\tx // y\t\n",
    " "
   ]
  },
  {
   "cell_type": "markdown",
   "id": "daec0a69",
   "metadata": {},
   "source": [
    "### **Assignment Operators**\n",
    "Assignment operators are used to assign values to variables:\n",
    " "
   ]
  },
  {
   "cell_type": "raw",
   "id": "7bdd545e",
   "metadata": {},
   "source": [
    "=\tx = 5\tx = 5\t\n",
    "+=\tx += 3\tx = x + 3\t\n",
    "-=\tx -= 3\tx = x - 3\t\n",
    "*=\tx *= 3\tx = x * 3\t\n",
    "/=\tx /= 3\tx = x / 3\t\n",
    "%=\tx %= 3\tx = x % 3\t\n",
    "//=\tx //= 3\tx = x // 3\t\n",
    "**=\tx **= 3\tx = x ** 3\t\n",
    "&=\tx &= 3\tx = x & 3\t\n",
    "|=\tx |= 3\tx = x | 3\t\n",
    "^=\tx ^= 3\tx = x ^ 3\t\n",
    ">>=\tx >>= 3\tx = x >> 3\t\n",
    "<<=\tx <<= 3\tx = x << 3\t\n",
    " "
   ]
  },
  {
   "cell_type": "markdown",
   "id": "6f5f9e44",
   "metadata": {},
   "source": [
    "### **Comparison Operators**\n",
    "Comparison operators are used to compare two values:\n",
    "\n",
    " "
   ]
  },
  {
   "cell_type": "raw",
   "id": "084b73f5",
   "metadata": {},
   "source": [
    "==\tEqual\tx == y\t\n",
    "!=\tNot equal\tx != y\t\n",
    ">\tGreater than\tx > y\t\n",
    "<\tLess than\tx < y\t\n",
    ">=\tGreater than or equal to\tx >= y\t\n",
    "<=\tLess than or equal to\tx <= y\t\n",
    " "
   ]
  },
  {
   "cell_type": "markdown",
   "id": "23f7f4f9",
   "metadata": {},
   "source": [
    "### **Logical Operators**\n",
    "Logical operators are used to combine conditional statements:\n",
    "\n",
    " "
   ]
  },
  {
   "cell_type": "raw",
   "id": "526c192b",
   "metadata": {},
   "source": [
    "and \tReturns True if both statements are true\tx < 5 and  x < 10\t\n",
    "or\tReturns True if one of the statements is true\tx < 5 or x < 4\t\n",
    "not\tReverse the result, returns False if the result is true\tnot(x < 5 and x < 10)\t\n",
    " "
   ]
  },
  {
   "cell_type": "markdown",
   "id": "094043f3",
   "metadata": {},
   "source": [
    "### **Identity Operators**\n",
    "Identity operators are used to compare the objects, not if they are equal, but if they are actually the same object, with the same memory location:\n",
    "\n",
    " "
   ]
  },
  {
   "cell_type": "raw",
   "id": "7dd9b534",
   "metadata": {},
   "source": [
    "is \tReturns True if both variables are the same object\tx is y\t\n",
    "is not\tReturns True if both variables are not the same object\tx is not y\t\n",
    " "
   ]
  },
  {
   "cell_type": "markdown",
   "id": "3d266d8a",
   "metadata": {},
   "source": [
    "### **  Membership Operators**\n",
    "Membership operators are used to test if a sequence is presented in an object:\n",
    "\n",
    " "
   ]
  },
  {
   "cell_type": "raw",
   "id": "e7186e20",
   "metadata": {},
   "source": [
    "in \tReturns True if a sequence with the specified value is present in the object\tx in y\t\n",
    "not in\tReturns True if a sequence with the specified value is not present in the object\tx not in y\t\n",
    " "
   ]
  },
  {
   "cell_type": "markdown",
   "id": "30d80be9",
   "metadata": {},
   "source": [
    "## **Bitwise Operators**\n",
    "Bitwise operators are used to compare (binary) numbers:\n",
    "\n",
    " "
   ]
  },
  {
   "cell_type": "raw",
   "id": "df8e841b",
   "metadata": {},
   "source": [
    "&       AND\t                    Sets each bit to 1 if both bits are 1\t             x & y\t\n",
    "\n",
    "|\t    OR                      Sets each bit to 1 if one of two bits is 1\t         x | y\t\n",
    "\n",
    "^\t    XOR\t                    Sets each bit to 1 if only one of two bits is 1\t     x ^ y\t\n",
    "\n",
    "~\t    NOT\t                    Inverts all the bits\t                             ~x\t\n",
    "\n",
    "<<\t    Zero fill left shift\tShift left by pushing zeros in from the right        x << 2\t\n",
    "                                and let the leftmost bits fall off\t \n",
    "                                \n",
    ">>\t    Signed right shift\t    Shift right by pushing copies of the leftmost        x >> 2\n",
    "                                bit in from the left, and let the rightmost bits    \n",
    "                                fall off "
   ]
  },
  {
   "cell_type": "markdown",
   "id": "246ac159",
   "metadata": {},
   "source": [
    "#### *Operator Precedence*"
   ]
  },
  {
   "cell_type": "raw",
   "id": "55b76eba",
   "metadata": {},
   "source": [
    "()\t          Parentheses\t\n",
    "\n",
    "**            Exponentiation\n",
    "\n",
    "+x  -x  ~x\t  Unary plus, unary minus, and bitwise NOT\t\n",
    "\n",
    "*  /  //  %\t  Multiplication, division, floor division, and modulus\t\n",
    "\n",
    "+  -\t      Addition and subtraction\t\n",
    "\n",
    "<<  >>\t      Bitwise left and right shifts\t\n",
    "\n",
    "&\t          Bitwise AND\t\n",
    "\n",
    "^\t          Bitwise XOR\n",
    "\n",
    "|\t          Bitwise OR\n",
    "\n",
    "==  !=       Comparisons, \n",
    ">   >=       identity, and  \n",
    "<  <=        membership operators\t\n",
    "is  is not  \n",
    "in  not in \n",
    "\n",
    "not\t         Logical NOT\n",
    "\n",
    "and\t         AND\t\n",
    "\n",
    "or\t         OR"
   ]
  },
  {
   "cell_type": "markdown",
   "id": "226dee8f",
   "metadata": {},
   "source": [
    "## Control Statement in python"
   ]
  },
  {
   "cell_type": "markdown",
   "id": "bea79cdc",
   "metadata": {},
   "source": [
    "**logical conditions**"
   ]
  },
  {
   "cell_type": "raw",
   "id": "9a1c0334",
   "metadata": {},
   "source": [
    "Equals:                   a == b\n",
    "Not Equals:               a != b\n",
    "Less than:                a < b\n",
    "Less than or equal to:    a <= b\n",
    "Greater than:             a > b\n",
    "Greater than or equal to: a >= b"
   ]
  },
  {
   "cell_type": "markdown",
   "id": "351c7867",
   "metadata": {},
   "source": [
    "**Control Statement**"
   ]
  },
  {
   "cell_type": "markdown",
   "id": "e464e3f0",
   "metadata": {},
   "source": [
    "* **if**\n",
    "\n",
    "* **if-else**\n"
   ]
  },
  {
   "cell_type": "code",
   "execution_count": 93,
   "id": "5f5ed8db",
   "metadata": {},
   "outputs": [
    {
     "name": "stdout",
     "output_type": "stream",
     "text": [
      "b is greater than a\n"
     ]
    }
   ],
   "source": [
    "a = 33\n",
    "b = 200\n",
    "if b > a:\n",
    "    print(\"b is greater than a\")"
   ]
  },
  {
   "cell_type": "code",
   "execution_count": 94,
   "id": "e5e5ac73",
   "metadata": {},
   "outputs": [
    {
     "name": "stdout",
     "output_type": "stream",
     "text": [
      "a and b are equal\n"
     ]
    }
   ],
   "source": [
    "a = 33\n",
    "b = 33\n",
    "if b > a:\n",
    "    print(\"b is greater than a\")\n",
    "elif a == b:\n",
    "    print(\"a and b are equal\")"
   ]
  },
  {
   "cell_type": "code",
   "execution_count": 95,
   "id": "44a88412",
   "metadata": {},
   "outputs": [
    {
     "name": "stdout",
     "output_type": "stream",
     "text": [
      "a is greater than b\n"
     ]
    }
   ],
   "source": [
    "a = 200\n",
    "b = 33\n",
    "if b > a:\n",
    "    print(\"b is greater than a\")\n",
    "elif a == b:\n",
    "    print(\"a and b are equal\")\n",
    "else:\n",
    "    print(\"a is greater than b\")"
   ]
  },
  {
   "cell_type": "code",
   "execution_count": 96,
   "id": "f1554ad6",
   "metadata": {},
   "outputs": [
    {
     "name": "stdout",
     "output_type": "stream",
     "text": [
      "Both conditions are True\n"
     ]
    }
   ],
   "source": [
    "a = 200\n",
    "b = 33\n",
    "c = 500\n",
    "if a > b and c > a:\n",
    "    print(\"Both conditions are True\")"
   ]
  },
  {
   "cell_type": "code",
   "execution_count": 97,
   "id": "30595d9a",
   "metadata": {},
   "outputs": [
    {
     "name": "stdout",
     "output_type": "stream",
     "text": [
      "At least one of the conditions is True\n"
     ]
    }
   ],
   "source": [
    "a = 200\n",
    "b = 33\n",
    "c = 500\n",
    "if a > b or a > c:\n",
    "    print(\"At least one of the conditions is True\")"
   ]
  },
  {
   "cell_type": "code",
   "execution_count": 98,
   "id": "edb8800d",
   "metadata": {},
   "outputs": [
    {
     "name": "stdout",
     "output_type": "stream",
     "text": [
      "a is NOT greater than b\n"
     ]
    }
   ],
   "source": [
    "a = 33\n",
    "b = 200\n",
    "if not a > b:\n",
    "    print(\"a is NOT greater than b\")"
   ]
  },
  {
   "cell_type": "code",
   "execution_count": 99,
   "id": "adcb2f8b",
   "metadata": {},
   "outputs": [
    {
     "ename": "IndentationError",
     "evalue": "expected an indented block (2829210178.py, line 6)",
     "output_type": "error",
     "traceback": [
      "\u001b[1;36m  File \u001b[1;32m\"C:\\Users\\riya wagh\\AppData\\Local\\Temp\\ipykernel_7624\\2829210178.py\"\u001b[1;36m, line \u001b[1;32m6\u001b[0m\n\u001b[1;33m    print(\"and also above 20!\")\u001b[0m\n\u001b[1;37m    ^\u001b[0m\n\u001b[1;31mIndentationError\u001b[0m\u001b[1;31m:\u001b[0m expected an indented block\n"
     ]
    }
   ],
   "source": [
    "x = 41\n",
    "\n",
    "if x > 10:\n",
    "    print(\"Above ten,\")\n",
    "    if x > 20:\n",
    "    print(\"and also above 20!\")\n",
    "    else:\n",
    "    print(\"but not above 20.\")"
   ]
  },
  {
   "cell_type": "code",
   "execution_count": 100,
   "id": "d7b32adf",
   "metadata": {},
   "outputs": [],
   "source": [
    "a = 33\n",
    "b = 200\n",
    "\n",
    "if b > a:\n",
    "    pass"
   ]
  },
  {
   "cell_type": "markdown",
   "id": "c3416bc1",
   "metadata": {},
   "source": [
    "### **Loops**\n",
    "* while loops\n",
    "* for loops"
   ]
  },
  {
   "cell_type": "code",
   "execution_count": 101,
   "id": "8132d2fb",
   "metadata": {},
   "outputs": [
    {
     "name": "stdout",
     "output_type": "stream",
     "text": [
      "1\n",
      "2\n",
      "3\n",
      "4\n",
      "5\n"
     ]
    }
   ],
   "source": [
    "i = 1\n",
    "while i < 6:\n",
    "    print(i)\n",
    "    i += 1"
   ]
  },
  {
   "cell_type": "code",
   "execution_count": 102,
   "id": "092237d0",
   "metadata": {},
   "outputs": [
    {
     "name": "stdout",
     "output_type": "stream",
     "text": [
      "1\n",
      "2\n",
      "3\n"
     ]
    }
   ],
   "source": [
    "i = 1\n",
    "while i < 6:\n",
    " print(i)\n",
    " if i == 3:\n",
    "     break\n",
    " i += 1"
   ]
  },
  {
   "cell_type": "code",
   "execution_count": 103,
   "id": "53cbd64d",
   "metadata": {},
   "outputs": [
    {
     "name": "stdout",
     "output_type": "stream",
     "text": [
      "1\n",
      "2\n",
      "4\n",
      "5\n",
      "6\n"
     ]
    }
   ],
   "source": [
    "i = 0\n",
    "while i < 6:\n",
    "  i += 1\n",
    "  if i == 3:\n",
    "    continue\n",
    "  print(i)"
   ]
  },
  {
   "cell_type": "code",
   "execution_count": 104,
   "id": "6e53572a",
   "metadata": {},
   "outputs": [
    {
     "name": "stdout",
     "output_type": "stream",
     "text": [
      "1\n",
      "2\n",
      "3\n",
      "4\n",
      "5\n",
      "i is no longer less than 6\n"
     ]
    }
   ],
   "source": [
    "i = 1\n",
    "while i < 6:\n",
    "  print(i)\n",
    "  i += 1\n",
    "else:\n",
    "  print(\"i is no longer less than 6\")"
   ]
  },
  {
   "cell_type": "code",
   "execution_count": 105,
   "id": "d634368b",
   "metadata": {},
   "outputs": [
    {
     "name": "stdout",
     "output_type": "stream",
     "text": [
      "apple\n",
      "banana\n",
      "cherry\n"
     ]
    }
   ],
   "source": [
    "fruits = [\"apple\", \"banana\", \"cherry\"]\n",
    "for x in fruits:\n",
    "  print(x)"
   ]
  },
  {
   "cell_type": "code",
   "execution_count": 106,
   "id": "8766b2f2",
   "metadata": {},
   "outputs": [
    {
     "name": "stdout",
     "output_type": "stream",
     "text": [
      "b\n",
      "a\n",
      "n\n",
      "a\n",
      "n\n",
      "a\n"
     ]
    }
   ],
   "source": [
    "for x in \"banana\":\n",
    "  print(x)"
   ]
  },
  {
   "cell_type": "code",
   "execution_count": 107,
   "id": "84fc3a3c",
   "metadata": {},
   "outputs": [
    {
     "name": "stdout",
     "output_type": "stream",
     "text": [
      "apple\n",
      "banana\n"
     ]
    }
   ],
   "source": [
    "fruits = [\"apple\", \"banana\", \"cherry\"]\n",
    "for x in fruits:\n",
    "  print(x)\n",
    "  if x == \"banana\":\n",
    "    break\n"
   ]
  },
  {
   "cell_type": "code",
   "execution_count": 108,
   "id": "ce7d31a1",
   "metadata": {},
   "outputs": [
    {
     "name": "stdout",
     "output_type": "stream",
     "text": [
      "apple\n"
     ]
    }
   ],
   "source": [
    "fruits = [\"apple\", \"banana\", \"cherry\"]\n",
    "for x in fruits:\n",
    "  if x == \"banana\":\n",
    "    break\n",
    "  print(x)"
   ]
  },
  {
   "cell_type": "code",
   "execution_count": 109,
   "id": "709dfeb8",
   "metadata": {},
   "outputs": [
    {
     "name": "stdout",
     "output_type": "stream",
     "text": [
      "apple\n",
      "cherry\n"
     ]
    }
   ],
   "source": [
    "fruits = [\"apple\", \"banana\", \"cherry\"]\n",
    "for x in fruits:\n",
    "  if x == \"banana\":\n",
    "    continue\n",
    "  print(x)"
   ]
  },
  {
   "cell_type": "code",
   "execution_count": 110,
   "id": "06bd2647",
   "metadata": {},
   "outputs": [
    {
     "name": "stdout",
     "output_type": "stream",
     "text": [
      "0\n",
      "1\n",
      "2\n",
      "3\n",
      "4\n",
      "5\n"
     ]
    }
   ],
   "source": [
    "for x in range(6):\n",
    "  print(x)"
   ]
  },
  {
   "cell_type": "code",
   "execution_count": 111,
   "id": "3f953f05",
   "metadata": {},
   "outputs": [
    {
     "name": "stdout",
     "output_type": "stream",
     "text": [
      "2\n",
      "3\n",
      "4\n",
      "5\n"
     ]
    }
   ],
   "source": [
    "for x in range(2, 6):\n",
    "  print(x)"
   ]
  },
  {
   "cell_type": "code",
   "execution_count": 112,
   "id": "54729401",
   "metadata": {},
   "outputs": [
    {
     "name": "stdout",
     "output_type": "stream",
     "text": [
      "0\n",
      "1\n",
      "2\n",
      "3\n",
      "4\n",
      "5\n",
      "Finally finished!\n"
     ]
    }
   ],
   "source": [
    "for x in range(6):\n",
    "  print(x)\n",
    "else:\n",
    "  print(\"Finally finished!\")"
   ]
  },
  {
   "cell_type": "code",
   "execution_count": 113,
   "id": "f306378b",
   "metadata": {},
   "outputs": [
    {
     "name": "stdout",
     "output_type": "stream",
     "text": [
      "red apple\n",
      "red banana\n",
      "red cherry\n",
      "big apple\n",
      "big banana\n",
      "big cherry\n",
      "tasty apple\n",
      "tasty banana\n",
      "tasty cherry\n"
     ]
    }
   ],
   "source": [
    "adj = [\"red\", \"big\", \"tasty\"]\n",
    "fruits = [\"apple\", \"banana\", \"cherry\"]\n",
    "\n",
    "for x in adj:\n",
    "  for y in fruits:\n",
    "    print(x, y)"
   ]
  },
  {
   "cell_type": "code",
   "execution_count": 114,
   "id": "58c64936",
   "metadata": {},
   "outputs": [],
   "source": [
    "for x in [0, 1, 2]:\n",
    "  pass"
   ]
  },
  {
   "cell_type": "code",
   "execution_count": null,
   "id": "38257603",
   "metadata": {},
   "outputs": [],
   "source": []
  },
  {
   "cell_type": "code",
   "execution_count": null,
   "id": "91bdd253",
   "metadata": {},
   "outputs": [],
   "source": []
  }
 ],
 "metadata": {
  "kernelspec": {
   "display_name": "Python 3 (ipykernel)",
   "language": "python",
   "name": "python3"
  },
  "language_info": {
   "codemirror_mode": {
    "name": "ipython",
    "version": 3
   },
   "file_extension": ".py",
   "mimetype": "text/x-python",
   "name": "python",
   "nbconvert_exporter": "python",
   "pygments_lexer": "ipython3",
   "version": "3.9.13"
  }
 },
 "nbformat": 4,
 "nbformat_minor": 5
}
