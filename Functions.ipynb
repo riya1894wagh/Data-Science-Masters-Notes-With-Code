{
 "cells": [
  {
   "cell_type": "markdown",
   "id": "0503bbb8",
   "metadata": {},
   "source": [
    "#  Functions\n"
   ]
  },
  {
   "cell_type": "markdown",
   "id": "1606a22b",
   "metadata": {},
   "source": [
    "* A function is a block of code which only runs when it is called.\n",
    "\n",
    "* You can pass data, known as parameters, into a function.\n",
    "\n",
    "* A function can return data as a result."
   ]
  },
  {
   "cell_type": "markdown",
   "id": "9f236e93",
   "metadata": {},
   "source": [
    "## Arguments\n",
    "\n",
    "Information can be passed into functions as arguments.\n",
    "\n",
    "Arguments are specified after the function name, inside the parentheses. You can add as many arguments as you want, just separate them with a comma.\n",
    "\n"
   ]
  },
  {
   "cell_type": "code",
   "execution_count": 1,
   "id": "f04ba6dd",
   "metadata": {},
   "outputs": [
    {
     "name": "stdout",
     "output_type": "stream",
     "text": [
      "Emil Refsnes\n",
      "Tobias Refsnes\n",
      "Linus Refsnes\n"
     ]
    }
   ],
   "source": [
    "def my_function(fname):\n",
    "  print(fname + \" Refsnes\")\n",
    "\n",
    "my_function(\"Emil\")\n",
    "my_function(\"Tobias\")\n",
    "my_function(\"Linus\")"
   ]
  },
  {
   "cell_type": "code",
   "execution_count": 2,
   "id": "d23983e7",
   "metadata": {},
   "outputs": [
    {
     "name": "stdout",
     "output_type": "stream",
     "text": [
      "Emil Refsnes\n"
     ]
    }
   ],
   "source": [
    "def my_function(fname, lname):\n",
    "  print(fname + \" \" + lname)\n",
    "\n",
    "\n",
    "my_function(\"Emil\", \"Refsnes\")"
   ]
  },
  {
   "cell_type": "code",
   "execution_count": 3,
   "id": "c7c0790b",
   "metadata": {},
   "outputs": [
    {
     "ename": "TypeError",
     "evalue": "my_function() missing 1 required positional argument: 'lname'",
     "output_type": "error",
     "traceback": [
      "\u001b[1;31m---------------------------------------------------------------------------\u001b[0m",
      "\u001b[1;31mTypeError\u001b[0m                                 Traceback (most recent call last)",
      "\u001b[1;32m~\\AppData\\Local\\Temp\\ipykernel_2148\\2663467011.py\u001b[0m in \u001b[0;36m<module>\u001b[1;34m\u001b[0m\n\u001b[0;32m      2\u001b[0m   \u001b[0mprint\u001b[0m\u001b[1;33m(\u001b[0m\u001b[0mfname\u001b[0m \u001b[1;33m+\u001b[0m \u001b[1;34m\" \"\u001b[0m \u001b[1;33m+\u001b[0m \u001b[0mlname\u001b[0m\u001b[1;33m)\u001b[0m\u001b[1;33m\u001b[0m\u001b[1;33m\u001b[0m\u001b[0m\n\u001b[0;32m      3\u001b[0m \u001b[1;33m\u001b[0m\u001b[0m\n\u001b[1;32m----> 4\u001b[1;33m \u001b[0mmy_function\u001b[0m\u001b[1;33m(\u001b[0m\u001b[1;34m\"Emil\"\u001b[0m\u001b[1;33m)\u001b[0m\u001b[1;33m\u001b[0m\u001b[1;33m\u001b[0m\u001b[0m\n\u001b[0m",
      "\u001b[1;31mTypeError\u001b[0m: my_function() missing 1 required positional argument: 'lname'"
     ]
    }
   ],
   "source": [
    "def my_function(fname, lname):\n",
    "  print(fname + \" \" + lname)\n",
    "\n",
    "my_function(\"Emil\")"
   ]
  },
  {
   "cell_type": "markdown",
   "id": "5154210e",
   "metadata": {},
   "source": [
    "## *args\n",
    "\n",
    "If you do not know how many arguments that will be passed into your function, add a * before the parameter name in the function definition.\n",
    "\n"
   ]
  },
  {
   "cell_type": "code",
   "execution_count": null,
   "id": "779cbf85",
   "metadata": {},
   "outputs": [],
   "source": [
    "def my_function(*kids):\n",
    "  print(\"The youngest child is \" + kids[-1])\n",
    "\n",
    "my_function(\"Emil\", \"Tobias\", \"Linus\")"
   ]
  },
  {
   "cell_type": "markdown",
   "id": "79316020",
   "metadata": {},
   "source": [
    "## **kwargs\n",
    "\n",
    "If you do not know how many keyword arguments that will be passed into your function, add two asterisk: ** before the parameter name in the function definition.\n",
    "\n"
   ]
  },
  {
   "cell_type": "code",
   "execution_count": 4,
   "id": "c40bfd51",
   "metadata": {},
   "outputs": [
    {
     "name": "stdout",
     "output_type": "stream",
     "text": [
      "His last name is wagh\n"
     ]
    }
   ],
   "source": [
    "def my_function(**kid):\n",
    "  print(\"His last name is \" + kid[\"lname\"])\n",
    "\n",
    "my_function(fname = \"riya\", lname = \"wagh\")"
   ]
  },
  {
   "cell_type": "markdown",
   "id": "80a40d22",
   "metadata": {},
   "source": [
    "## Default Parameter Value\n"
   ]
  },
  {
   "cell_type": "code",
   "execution_count": 5,
   "id": "0de40c87",
   "metadata": {},
   "outputs": [
    {
     "name": "stdout",
     "output_type": "stream",
     "text": [
      "I am from Sweden\n",
      "I am from India\n",
      "I am from Norway\n",
      "I am from Brazil\n"
     ]
    }
   ],
   "source": [
    "def my_function(country = \"Norway\"):\n",
    "  print(\"I am from \" + country)\n",
    "\n",
    "my_function(\"Sweden\")\n",
    "my_function(\"India\")\n",
    "my_function()\n",
    "my_function(\"Brazil\")"
   ]
  },
  {
   "cell_type": "markdown",
   "id": "2de46b25",
   "metadata": {},
   "source": [
    "## *Recursion*\n"
   ]
  },
  {
   "cell_type": "markdown",
   "id": "2ac5fdfa",
   "metadata": {},
   "source": [
    "* Python also accepts function recursion, which means a defined function can call itself.\n",
    "\n",
    "* Recursion is a common mathematical and programming concept. It means that a function calls itself. This has the benefit of meaning that you can loop through data to reach a result."
   ]
  },
  {
   "cell_type": "code",
   "execution_count": 6,
   "id": "e5e5483e",
   "metadata": {},
   "outputs": [
    {
     "name": "stdout",
     "output_type": "stream",
     "text": [
      "\n",
      "\n",
      "Recursion Example Results\n",
      "1\n",
      "3\n",
      "6\n",
      "10\n",
      "15\n",
      "21\n"
     ]
    },
    {
     "data": {
      "text/plain": [
       "21"
      ]
     },
     "execution_count": 6,
     "metadata": {},
     "output_type": "execute_result"
    }
   ],
   "source": [
    "def recursion(k):\n",
    "    if(k > 0):\n",
    "        result = k + recursion(k - 1)\n",
    "        print(result)\n",
    "    else:\n",
    "        result = 0\n",
    "    return result\n",
    "\n",
    "print(\"\\n\\nRecursion Example Results\")\n",
    "recursion(6)\n"
   ]
  },
  {
   "cell_type": "markdown",
   "id": "ec4ca731",
   "metadata": {},
   "source": [
    "## *Python Lambda*\n"
   ]
  },
  {
   "cell_type": "markdown",
   "id": "ba3e9c15",
   "metadata": {},
   "source": [
    "* A lambda function is a small anonymous function.\n",
    "\n",
    "* A lambda function can take any number of arguments, but can only have one expression.\n",
    "\n",
    "Syntax\n",
    "\n",
    "lambda argument(s) : expression"
   ]
  },
  {
   "cell_type": "code",
   "execution_count": 7,
   "id": "5eaea0c1",
   "metadata": {},
   "outputs": [
    {
     "name": "stdout",
     "output_type": "stream",
     "text": [
      "25\n"
     ]
    }
   ],
   "source": [
    "x = lambda a: a*a\n",
    "print(x(5))"
   ]
  },
  {
   "cell_type": "code",
   "execution_count": 8,
   "id": "81ddda67",
   "metadata": {},
   "outputs": [
    {
     "name": "stdout",
     "output_type": "stream",
     "text": [
      "40\n"
     ]
    }
   ],
   "source": [
    "x = lambda a , b: a*b\n",
    "print(x(5,8))"
   ]
  },
  {
   "cell_type": "code",
   "execution_count": 9,
   "id": "18d78026",
   "metadata": {},
   "outputs": [
    {
     "name": "stdout",
     "output_type": "stream",
     "text": [
      "200\n"
     ]
    }
   ],
   "source": [
    "x = lambda a,b,c: a*b*c\n",
    "print(x(5,8,5))"
   ]
  },
  {
   "cell_type": "code",
   "execution_count": 10,
   "id": "4c6b80e6",
   "metadata": {},
   "outputs": [
    {
     "name": "stdout",
     "output_type": "stream",
     "text": [
      "30\n"
     ]
    }
   ],
   "source": [
    "def num(n):\n",
    "    return lambda a : a * n\n",
    "x =num(6)\n",
    "y=x(5)\n",
    "print(y)"
   ]
  },
  {
   "cell_type": "markdown",
   "id": "4403c77a",
   "metadata": {},
   "source": [
    "## *Map Function*\n",
    "\n",
    "* The map() function executes a specified function for each item in an iterable. The item is sent to the function as a parameter.\n",
    "\n",
    "Syntax\n",
    "\n",
    "map(function, iterables)\n",
    "\n"
   ]
  },
  {
   "cell_type": "code",
   "execution_count": 11,
   "id": "524cd1e7",
   "metadata": {},
   "outputs": [
    {
     "data": {
      "text/plain": [
       "['apple and orange', 'banana and lemon', 'cherry and pineapple']"
      ]
     },
     "execution_count": 11,
     "metadata": {},
     "output_type": "execute_result"
    }
   ],
   "source": [
    "def myfunc(a, b):\n",
    "     return a + \" and \" + b\n",
    "\n",
    "x = map(myfunc, ('apple', 'banana', 'cherry'), ('orange', 'lemon', 'pineapple'))\n",
    "list(x)"
   ]
  },
  {
   "cell_type": "code",
   "execution_count": 12,
   "id": "f42b20d9",
   "metadata": {},
   "outputs": [],
   "source": [
    "a=[1,2,3,4,5]"
   ]
  },
  {
   "cell_type": "code",
   "execution_count": 13,
   "id": "42bdabc8",
   "metadata": {},
   "outputs": [
    {
     "ename": "NameError",
     "evalue": "name 'l' is not defined",
     "output_type": "error",
     "traceback": [
      "\u001b[1;31m---------------------------------------------------------------------------\u001b[0m",
      "\u001b[1;31mNameError\u001b[0m                                 Traceback (most recent call last)",
      "\u001b[1;32m~\\AppData\\Local\\Temp\\ipykernel_2148\\2552931991.py\u001b[0m in \u001b[0;36m<module>\u001b[1;34m\u001b[0m\n\u001b[1;32m----> 1\u001b[1;33m \u001b[0mlist\u001b[0m\u001b[1;33m(\u001b[0m\u001b[0mmap\u001b[0m\u001b[1;33m(\u001b[0m\u001b[1;32mlambda\u001b[0m \u001b[0mx\u001b[0m \u001b[1;33m:\u001b[0m \u001b[0mx\u001b[0m\u001b[1;33m**\u001b[0m\u001b[1;36m2\u001b[0m \u001b[1;33m,\u001b[0m \u001b[0ml\u001b[0m\u001b[1;33m)\u001b[0m\u001b[1;33m)\u001b[0m\u001b[1;33m\u001b[0m\u001b[1;33m\u001b[0m\u001b[0m\n\u001b[0m",
      "\u001b[1;31mNameError\u001b[0m: name 'l' is not defined"
     ]
    }
   ],
   "source": [
    "list(map(lambda x : x**2 , l))"
   ]
  },
  {
   "cell_type": "code",
   "execution_count": 14,
   "id": "9e4b250e",
   "metadata": {},
   "outputs": [
    {
     "ename": "NameError",
     "evalue": "name 'l' is not defined",
     "output_type": "error",
     "traceback": [
      "\u001b[1;31m---------------------------------------------------------------------------\u001b[0m",
      "\u001b[1;31mNameError\u001b[0m                                 Traceback (most recent call last)",
      "\u001b[1;32m~\\AppData\\Local\\Temp\\ipykernel_2148\\3388377354.py\u001b[0m in \u001b[0;36m<module>\u001b[1;34m\u001b[0m\n\u001b[1;32m----> 1\u001b[1;33m \u001b[0mlist\u001b[0m\u001b[1;33m(\u001b[0m\u001b[0mmap\u001b[0m\u001b[1;33m(\u001b[0m\u001b[1;32mlambda\u001b[0m \u001b[0mx\u001b[0m\u001b[1;33m:\u001b[0m \u001b[0mx\u001b[0m\u001b[1;33m+\u001b[0m\u001b[1;36m1\u001b[0m\u001b[1;33m,\u001b[0m\u001b[0ml\u001b[0m\u001b[1;33m)\u001b[0m\u001b[1;33m)\u001b[0m\u001b[1;33m\u001b[0m\u001b[1;33m\u001b[0m\u001b[0m\n\u001b[0m",
      "\u001b[1;31mNameError\u001b[0m: name 'l' is not defined"
     ]
    }
   ],
   "source": [
    "list(map(lambda x: x+1,l))"
   ]
  },
  {
   "cell_type": "code",
   "execution_count": 15,
   "id": "4768075f",
   "metadata": {},
   "outputs": [
    {
     "ename": "NameError",
     "evalue": "name 'l' is not defined",
     "output_type": "error",
     "traceback": [
      "\u001b[1;31m---------------------------------------------------------------------------\u001b[0m",
      "\u001b[1;31mNameError\u001b[0m                                 Traceback (most recent call last)",
      "\u001b[1;32m~\\AppData\\Local\\Temp\\ipykernel_2148\\3535641421.py\u001b[0m in \u001b[0;36m<module>\u001b[1;34m\u001b[0m\n\u001b[1;32m----> 1\u001b[1;33m \u001b[0mlist\u001b[0m\u001b[1;33m(\u001b[0m\u001b[0mmap\u001b[0m\u001b[1;33m(\u001b[0m\u001b[1;32mlambda\u001b[0m \u001b[0mx\u001b[0m\u001b[1;33m:\u001b[0m \u001b[0mstr\u001b[0m\u001b[1;33m(\u001b[0m\u001b[0mx\u001b[0m\u001b[1;33m)\u001b[0m \u001b[1;33m,\u001b[0m \u001b[0ml\u001b[0m\u001b[1;33m)\u001b[0m\u001b[1;33m)\u001b[0m\u001b[1;33m\u001b[0m\u001b[1;33m\u001b[0m\u001b[0m\n\u001b[0m",
      "\u001b[1;31mNameError\u001b[0m: name 'l' is not defined"
     ]
    }
   ],
   "source": [
    "list(map(lambda x: str(x) , l))\n"
   ]
  },
  {
   "cell_type": "code",
   "execution_count": 16,
   "id": "c1914c4e",
   "metadata": {},
   "outputs": [],
   "source": [
    "l1 = [1,2,3,4,5]\n",
    "l2=[6,7,8,9,10,11]"
   ]
  },
  {
   "cell_type": "code",
   "execution_count": 17,
   "id": "aadb875b",
   "metadata": {},
   "outputs": [
    {
     "data": {
      "text/plain": [
       "[2, 4, 6, 8, 10]"
      ]
     },
     "execution_count": 17,
     "metadata": {},
     "output_type": "execute_result"
    }
   ],
   "source": [
    "list(map(lambda x,y: x+y, l1,l1))"
   ]
  },
  {
   "cell_type": "code",
   "execution_count": 18,
   "id": "60e84e35",
   "metadata": {},
   "outputs": [
    {
     "data": {
      "text/plain": [
       "[6, 14, 24, 36, 50]"
      ]
     },
     "execution_count": 18,
     "metadata": {},
     "output_type": "execute_result"
    }
   ],
   "source": [
    "f=lambda x,y:x*y\n",
    "list(map(f,l1,l2))"
   ]
  },
  {
   "cell_type": "code",
   "execution_count": 19,
   "id": "659f4880",
   "metadata": {},
   "outputs": [
    {
     "data": {
      "text/plain": [
       "['P', 'W', 'S', 'K', 'I', 'L', 'L', 'S']"
      ]
     },
     "execution_count": 19,
     "metadata": {},
     "output_type": "execute_result"
    }
   ],
   "source": [
    "s=\"pwskills\"\n",
    "list(map(lambda x: x.upper(),s))"
   ]
  },
  {
   "cell_type": "markdown",
   "id": "f555ddff",
   "metadata": {},
   "source": [
    "## *Reduce*\n",
    "\n",
    "reduce() is defined in “functools” module.\n",
    "\n",
    "reduce() stores the intermediate result and only returns the final summation value.\n",
    "\n",
    "reduce(fun, seq) takes functionas 1st and sequence as 2nd argument. .\n",
    "\n",
    "* At first step, first two elements of sequence are picked and the result is obtained.\n",
    "* Next step is to apply the same function to the previously attained result and the number just succeeding the second element and the result is again stored.\n",
    "* This process continues till no more elements are left in the container.\n",
    "* The final returned result is returned and printed on console."
   ]
  },
  {
   "cell_type": "code",
   "execution_count": 20,
   "id": "2254712f",
   "metadata": {},
   "outputs": [],
   "source": [
    "from functools import reduce"
   ]
  },
  {
   "cell_type": "code",
   "execution_count": 21,
   "id": "ab7a0169",
   "metadata": {},
   "outputs": [
    {
     "data": {
      "text/plain": [
       "45"
      ]
     },
     "execution_count": 21,
     "metadata": {},
     "output_type": "execute_result"
    }
   ],
   "source": [
    "a=[1,2,3,4,5,6,7,8,9]\n",
    "reduce(lambda x,y:x+y,a)"
   ]
  },
  {
   "cell_type": "code",
   "execution_count": 22,
   "id": "6c2e571f",
   "metadata": {},
   "outputs": [
    {
     "name": "stdout",
     "output_type": "stream",
     "text": [
      "[8, 6, 8, 9, 1, 6, 6, 2, 1, 0, 1]\n"
     ]
    },
    {
     "data": {
      "text/plain": [
       "9"
      ]
     },
     "execution_count": 22,
     "metadata": {},
     "output_type": "execute_result"
    }
   ],
   "source": [
    "a = [8,6,8,9,1,6,6,2,1,0,1]\n",
    "print(a)\n",
    "reduce(lambda x,y : x if x>y else y , a)"
   ]
  },
  {
   "cell_type": "markdown",
   "id": "34548ccf",
   "metadata": {},
   "source": [
    "## *accumulate()*\n",
    "\n",
    "* accumulate() in “itertools” module.\n",
    "\n",
    "* accumulate() returns a iterator containing the intermediate results.\n",
    "\n",
    "* accumulate(seq, fun) takes sequence as 1st argument and function as 2nd argument"
   ]
  },
  {
   "cell_type": "code",
   "execution_count": 23,
   "id": "c5cbc807",
   "metadata": {},
   "outputs": [
    {
     "name": "stdout",
     "output_type": "stream",
     "text": [
      "[8, 6, 8, 9, 1, 6, 6, 2, 1, 0, 1]\n"
     ]
    },
    {
     "data": {
      "text/plain": [
       "[8, 14, 22, 31, 32, 38, 44, 46, 47, 47, 48]"
      ]
     },
     "execution_count": 23,
     "metadata": {},
     "output_type": "execute_result"
    }
   ],
   "source": [
    "import itertools\n",
    "print(a)\n",
    "list(itertools.accumulate(a,lambda x,y:x+y))"
   ]
  },
  {
   "cell_type": "code",
   "execution_count": 24,
   "id": "8529fcb9",
   "metadata": {},
   "outputs": [
    {
     "name": "stdout",
     "output_type": "stream",
     "text": [
      "[8, 6, 8, 9, 1, 6, 6, 2, 1, 0, 1]\n"
     ]
    },
    {
     "data": {
      "text/plain": [
       "[8, 8, 8, 9, 9, 9, 9, 9, 9, 9, 9]"
      ]
     },
     "execution_count": 24,
     "metadata": {},
     "output_type": "execute_result"
    }
   ],
   "source": [
    "a = [8,6,8,9,1,6,6,2,1,0,1]\n",
    "print(a)\n",
    "list(itertools.accumulate(a,lambda x,y : x if x>y else y ))\n"
   ]
  },
  {
   "cell_type": "markdown",
   "id": "d4bfdf55",
   "metadata": {},
   "source": [
    "## *abs function*\n",
    "\n",
    "* Return the absolute value of a number.\n",
    "* The aggument may be an integer , a floating point number, or an object implementing  __abs__().\n",
    "* if the argument is a complex number, its magnitude is returned."
   ]
  },
  {
   "cell_type": "code",
   "execution_count": 25,
   "id": "1093f21d",
   "metadata": {},
   "outputs": [
    {
     "name": "stdout",
     "output_type": "stream",
     "text": [
      "10\n",
      "90.658\n"
     ]
    }
   ],
   "source": [
    "x = abs(-10)\n",
    "print(x)\n",
    "y = abs(-90.658)\n",
    "print(y)\n",
    " "
   ]
  },
  {
   "cell_type": "markdown",
   "id": "f1cb92fd",
   "metadata": {},
   "source": [
    "## filter() method"
   ]
  },
  {
   "cell_type": "markdown",
   "id": "79c10e3d",
   "metadata": {},
   "source": [
    "The filter() method filter the given sequence withb the help of a function thatv tests each element in the sequence to be true or not.\n",
    "\n",
    "#### **syntex:**\n",
    "\n",
    "filter(function,sequence)\n",
    "\n",
    "**Paramrters:** \n",
    "* function that tests if each element of a sequence true or not\n",
    "* sequence which need to be filtered, it can be sets, list, tuple or container of any iterators.\n"
   ]
  },
  {
   "cell_type": "code",
   "execution_count": 26,
   "id": "72b7d4ef",
   "metadata": {},
   "outputs": [
    {
     "name": "stdout",
     "output_type": "stream",
     "text": [
      "[1, 3, 5, 7, 9]\n",
      "[0, 2, 4, 6, 8, 10]\n"
     ]
    }
   ],
   "source": [
    "a = [0,1,2,3,4,5,6,7,8,9,10]\n",
    "result = filter(lambda  x : x % 2 != 0 , a)\n",
    "print(list(result))\n",
    "result = filter(lambda  x : x % 2 == 0 , a)\n",
    "print(list(result))\n",
    "\n"
   ]
  },
  {
   "cell_type": "code",
   "execution_count": 27,
   "id": "8334f4eb",
   "metadata": {},
   "outputs": [
    {
     "name": "stdout",
     "output_type": "stream",
     "text": [
      "['even', 'odd', 'even', 'odd', 'even', 'odd', 'even', 'odd', 'even', 'odd', 'even']\n"
     ]
    }
   ],
   "source": [
    "def fun(x):\n",
    "     if(x % 2 != 0): \n",
    "            return \"odd\"\n",
    "     else:\n",
    "            return \"even\"\n",
    "print(list(map(fun,a)))"
   ]
  }
 ],
 "metadata": {
  "kernelspec": {
   "display_name": "Python 3 (ipykernel)",
   "language": "python",
   "name": "python3"
  },
  "language_info": {
   "codemirror_mode": {
    "name": "ipython",
    "version": 3
   },
   "file_extension": ".py",
   "mimetype": "text/x-python",
   "name": "python",
   "nbconvert_exporter": "python",
   "pygments_lexer": "ipython3",
   "version": "3.9.13"
  }
 },
 "nbformat": 4,
 "nbformat_minor": 5
}
